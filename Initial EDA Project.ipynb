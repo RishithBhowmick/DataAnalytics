{
 "cells": [
  {
   "cell_type": "markdown",
   "metadata": {},
   "source": [
    "# Introduction"
   ]
  },
  {
   "cell_type": "code",
   "execution_count": 24,
   "metadata": {},
   "outputs": [],
   "source": [
    "import pandas as pd\n",
    "import seaborn as sns\n",
    "import matplotlib.pyplot as plt\n",
    "import numpy as np"
   ]
  },
  {
   "cell_type": "code",
   "execution_count": 3,
   "metadata": {},
   "outputs": [],
   "source": [
    "df = pd.read_csv(\"StartupData.csv\")"
   ]
  },
  {
   "cell_type": "code",
   "execution_count": 4,
   "metadata": {},
   "outputs": [
    {
     "data": {
      "text/html": [
       "<div>\n",
       "<style scoped>\n",
       "    .dataframe tbody tr th:only-of-type {\n",
       "        vertical-align: middle;\n",
       "    }\n",
       "\n",
       "    .dataframe tbody tr th {\n",
       "        vertical-align: top;\n",
       "    }\n",
       "\n",
       "    .dataframe thead th {\n",
       "        text-align: right;\n",
       "    }\n",
       "</style>\n",
       "<table border=\"1\" class=\"dataframe\">\n",
       "  <thead>\n",
       "    <tr style=\"text-align: right;\">\n",
       "      <th></th>\n",
       "      <th>Company_Name</th>\n",
       "      <th>Dependent-Company Status</th>\n",
       "      <th>year of founding</th>\n",
       "      <th>Age of company in years</th>\n",
       "      <th>Internet Activity Score</th>\n",
       "      <th>Short Description of company profile</th>\n",
       "      <th>Industry of company</th>\n",
       "      <th>Focus functions of company</th>\n",
       "      <th>Investors</th>\n",
       "      <th>Employee Count</th>\n",
       "      <th>...</th>\n",
       "      <th>Percent_skill_Data Science</th>\n",
       "      <th>Percent_skill_Business Strategy</th>\n",
       "      <th>Percent_skill_Product Management</th>\n",
       "      <th>Percent_skill_Sales</th>\n",
       "      <th>Percent_skill_Domain</th>\n",
       "      <th>Percent_skill_Law</th>\n",
       "      <th>Percent_skill_Consulting</th>\n",
       "      <th>Percent_skill_Finance</th>\n",
       "      <th>Percent_skill_Investment</th>\n",
       "      <th>Renown score</th>\n",
       "    </tr>\n",
       "  </thead>\n",
       "  <tbody>\n",
       "    <tr>\n",
       "      <td>0</td>\n",
       "      <td>Company1</td>\n",
       "      <td>Success</td>\n",
       "      <td>No Info</td>\n",
       "      <td>No Info</td>\n",
       "      <td>-1.0</td>\n",
       "      <td>Video distribution</td>\n",
       "      <td>NaN</td>\n",
       "      <td>operation</td>\n",
       "      <td>KPCB Holdings|Draper Fisher Jurvetson (DFJ)|Kl...</td>\n",
       "      <td>3.0</td>\n",
       "      <td>...</td>\n",
       "      <td>0</td>\n",
       "      <td>0</td>\n",
       "      <td>0</td>\n",
       "      <td>0</td>\n",
       "      <td>0</td>\n",
       "      <td>0</td>\n",
       "      <td>0</td>\n",
       "      <td>0</td>\n",
       "      <td>0</td>\n",
       "      <td>0</td>\n",
       "    </tr>\n",
       "    <tr>\n",
       "      <td>1</td>\n",
       "      <td>Company2</td>\n",
       "      <td>Success</td>\n",
       "      <td>2011</td>\n",
       "      <td>3</td>\n",
       "      <td>125.0</td>\n",
       "      <td>NaN</td>\n",
       "      <td>Market Research|Marketing|Crowdfunding</td>\n",
       "      <td>Marketing, sales</td>\n",
       "      <td>NaN</td>\n",
       "      <td>NaN</td>\n",
       "      <td>...</td>\n",
       "      <td>8.823529412</td>\n",
       "      <td>21.76470588</td>\n",
       "      <td>10.88235294</td>\n",
       "      <td>2.941176471</td>\n",
       "      <td>0</td>\n",
       "      <td>0</td>\n",
       "      <td>0</td>\n",
       "      <td>0</td>\n",
       "      <td>0</td>\n",
       "      <td>8</td>\n",
       "    </tr>\n",
       "    <tr>\n",
       "      <td>2</td>\n",
       "      <td>Company3</td>\n",
       "      <td>Success</td>\n",
       "      <td>2011</td>\n",
       "      <td>3</td>\n",
       "      <td>455.0</td>\n",
       "      <td>Event Data Analytics API</td>\n",
       "      <td>Analytics|Cloud Computing|Software Development</td>\n",
       "      <td>operations</td>\n",
       "      <td>TechStars|Streamlined Ventures|Amplify Partner...</td>\n",
       "      <td>14.0</td>\n",
       "      <td>...</td>\n",
       "      <td>3.846153846</td>\n",
       "      <td>17.09401709</td>\n",
       "      <td>9.401709402</td>\n",
       "      <td>0</td>\n",
       "      <td>2.777777778</td>\n",
       "      <td>0</td>\n",
       "      <td>0</td>\n",
       "      <td>0</td>\n",
       "      <td>0</td>\n",
       "      <td>9</td>\n",
       "    </tr>\n",
       "    <tr>\n",
       "      <td>3</td>\n",
       "      <td>Company4</td>\n",
       "      <td>Success</td>\n",
       "      <td>2009</td>\n",
       "      <td>5</td>\n",
       "      <td>-99.0</td>\n",
       "      <td>The most advanced analytics for mobile</td>\n",
       "      <td>Mobile|Analytics</td>\n",
       "      <td>Marketing &amp; Sales</td>\n",
       "      <td>Michael Birch|Max Levchin|Sequoia Capital|Keit...</td>\n",
       "      <td>45.0</td>\n",
       "      <td>...</td>\n",
       "      <td>0</td>\n",
       "      <td>0</td>\n",
       "      <td>0</td>\n",
       "      <td>0</td>\n",
       "      <td>0</td>\n",
       "      <td>0</td>\n",
       "      <td>0</td>\n",
       "      <td>0</td>\n",
       "      <td>0</td>\n",
       "      <td>5</td>\n",
       "    </tr>\n",
       "    <tr>\n",
       "      <td>4</td>\n",
       "      <td>Company5</td>\n",
       "      <td>Success</td>\n",
       "      <td>2010</td>\n",
       "      <td>4</td>\n",
       "      <td>496.0</td>\n",
       "      <td>The Location-Based Marketing Platform</td>\n",
       "      <td>Analytics|Marketing|Enterprise Software</td>\n",
       "      <td>Marketing &amp; Sales</td>\n",
       "      <td>DFJ Frontier|Draper Nexus Ventures|Gil Elbaz|A...</td>\n",
       "      <td>39.0</td>\n",
       "      <td>...</td>\n",
       "      <td>0</td>\n",
       "      <td>0</td>\n",
       "      <td>0</td>\n",
       "      <td>0</td>\n",
       "      <td>0</td>\n",
       "      <td>0</td>\n",
       "      <td>0</td>\n",
       "      <td>0</td>\n",
       "      <td>0</td>\n",
       "      <td>6</td>\n",
       "    </tr>\n",
       "  </tbody>\n",
       "</table>\n",
       "<p>5 rows × 116 columns</p>\n",
       "</div>"
      ],
      "text/plain": [
       "  Company_Name Dependent-Company Status year of founding  \\\n",
       "0     Company1                  Success          No Info   \n",
       "1     Company2                  Success             2011   \n",
       "2     Company3                  Success             2011   \n",
       "3     Company4                  Success             2009   \n",
       "4     Company5                  Success             2010   \n",
       "\n",
       "  Age of company in years  Internet Activity Score  \\\n",
       "0                 No Info                     -1.0   \n",
       "1                       3                    125.0   \n",
       "2                       3                    455.0   \n",
       "3                       5                    -99.0   \n",
       "4                       4                    496.0   \n",
       "\n",
       "     Short Description of company profile  \\\n",
       "0                      Video distribution   \n",
       "1                                     NaN   \n",
       "2                Event Data Analytics API   \n",
       "3  The most advanced analytics for mobile   \n",
       "4   The Location-Based Marketing Platform   \n",
       "\n",
       "                              Industry of company Focus functions of company  \\\n",
       "0                                             NaN                  operation   \n",
       "1          Market Research|Marketing|Crowdfunding           Marketing, sales   \n",
       "2  Analytics|Cloud Computing|Software Development                 operations   \n",
       "3                                Mobile|Analytics          Marketing & Sales   \n",
       "4         Analytics|Marketing|Enterprise Software          Marketing & Sales   \n",
       "\n",
       "                                           Investors  Employee Count  ...  \\\n",
       "0  KPCB Holdings|Draper Fisher Jurvetson (DFJ)|Kl...             3.0  ...   \n",
       "1                                                NaN             NaN  ...   \n",
       "2  TechStars|Streamlined Ventures|Amplify Partner...            14.0  ...   \n",
       "3  Michael Birch|Max Levchin|Sequoia Capital|Keit...            45.0  ...   \n",
       "4  DFJ Frontier|Draper Nexus Ventures|Gil Elbaz|A...            39.0  ...   \n",
       "\n",
       "   Percent_skill_Data Science Percent_skill_Business Strategy  \\\n",
       "0                           0                               0   \n",
       "1                 8.823529412                     21.76470588   \n",
       "2                 3.846153846                     17.09401709   \n",
       "3                           0                               0   \n",
       "4                           0                               0   \n",
       "\n",
       "  Percent_skill_Product Management Percent_skill_Sales  Percent_skill_Domain  \\\n",
       "0                                0                   0                     0   \n",
       "1                      10.88235294         2.941176471                     0   \n",
       "2                      9.401709402                   0           2.777777778   \n",
       "3                                0                   0                     0   \n",
       "4                                0                   0                     0   \n",
       "\n",
       "  Percent_skill_Law Percent_skill_Consulting Percent_skill_Finance  \\\n",
       "0                 0                        0                     0   \n",
       "1                 0                        0                     0   \n",
       "2                 0                        0                     0   \n",
       "3                 0                        0                     0   \n",
       "4                 0                        0                     0   \n",
       "\n",
       "  Percent_skill_Investment  Renown score  \n",
       "0                        0             0  \n",
       "1                        0             8  \n",
       "2                        0             9  \n",
       "3                        0             5  \n",
       "4                        0             6  \n",
       "\n",
       "[5 rows x 116 columns]"
      ]
     },
     "execution_count": 4,
     "metadata": {},
     "output_type": "execute_result"
    }
   ],
   "source": [
    "df.head()"
   ]
  },
  {
   "cell_type": "markdown",
   "metadata": {},
   "source": [
    "# Descriptive Statistics"
   ]
  },
  {
   "cell_type": "markdown",
   "metadata": {},
   "source": [
    "Let us try to understand the given dataset in terms of the number of rows and columns"
   ]
  },
  {
   "cell_type": "code",
   "execution_count": 6,
   "metadata": {},
   "outputs": [
    {
     "name": "stdout",
     "output_type": "stream",
     "text": [
      "<class 'pandas.core.frame.DataFrame'>\n",
      "RangeIndex: 472 entries, 0 to 471\n",
      "Columns: 116 entries, Company_Name to Renown score\n",
      "dtypes: float64(5), int64(3), object(108)\n",
      "memory usage: 427.9+ KB\n",
      "None\n"
     ]
    }
   ],
   "source": [
    "print(df.info())"
   ]
  },
  {
   "cell_type": "markdown",
   "metadata": {},
   "source": [
    "As there are 116 columns used to describe the startup, let us find out how many of them can be used as is "
   ]
  },
  {
   "cell_type": "code",
   "execution_count": 8,
   "metadata": {},
   "outputs": [
    {
     "data": {
      "text/html": [
       "<div>\n",
       "<style scoped>\n",
       "    .dataframe tbody tr th:only-of-type {\n",
       "        vertical-align: middle;\n",
       "    }\n",
       "\n",
       "    .dataframe tbody tr th {\n",
       "        vertical-align: top;\n",
       "    }\n",
       "\n",
       "    .dataframe thead th {\n",
       "        text-align: right;\n",
       "    }\n",
       "</style>\n",
       "<table border=\"1\" class=\"dataframe\">\n",
       "  <thead>\n",
       "    <tr style=\"text-align: right;\">\n",
       "      <th></th>\n",
       "      <th>Internet Activity Score</th>\n",
       "      <th>Employee Count</th>\n",
       "      <th>Employees count MoM change</th>\n",
       "      <th>Last Funding Amount</th>\n",
       "      <th>Number of Co-founders</th>\n",
       "      <th>Number of of advisors</th>\n",
       "      <th>Team size Senior leadership</th>\n",
       "      <th>Industry trend in investing</th>\n",
       "    </tr>\n",
       "  </thead>\n",
       "  <tbody>\n",
       "    <tr>\n",
       "      <td>count</td>\n",
       "      <td>407.000000</td>\n",
       "      <td>306.000000</td>\n",
       "      <td>267.000000</td>\n",
       "      <td>3.120000e+02</td>\n",
       "      <td>472.000000</td>\n",
       "      <td>472.000000</td>\n",
       "      <td>472.000000</td>\n",
       "      <td>390.000000</td>\n",
       "    </tr>\n",
       "    <tr>\n",
       "      <td>mean</td>\n",
       "      <td>114.159705</td>\n",
       "      <td>31.408497</td>\n",
       "      <td>-1.299625</td>\n",
       "      <td>6.379489e+06</td>\n",
       "      <td>1.868644</td>\n",
       "      <td>1.016949</td>\n",
       "      <td>3.730932</td>\n",
       "      <td>2.889744</td>\n",
       "    </tr>\n",
       "    <tr>\n",
       "      <td>std</td>\n",
       "      <td>225.651419</td>\n",
       "      <td>62.673600</td>\n",
       "      <td>23.967085</td>\n",
       "      <td>9.901622e+06</td>\n",
       "      <td>1.143481</td>\n",
       "      <td>2.014736</td>\n",
       "      <td>2.516539</td>\n",
       "      <td>0.845765</td>\n",
       "    </tr>\n",
       "    <tr>\n",
       "      <td>min</td>\n",
       "      <td>-725.000000</td>\n",
       "      <td>0.000000</td>\n",
       "      <td>-100.000000</td>\n",
       "      <td>1.000000e+04</td>\n",
       "      <td>0.000000</td>\n",
       "      <td>0.000000</td>\n",
       "      <td>1.000000</td>\n",
       "      <td>0.000000</td>\n",
       "    </tr>\n",
       "    <tr>\n",
       "      <td>25%</td>\n",
       "      <td>-3.500000</td>\n",
       "      <td>4.250000</td>\n",
       "      <td>0.000000</td>\n",
       "      <td>7.500000e+05</td>\n",
       "      <td>1.000000</td>\n",
       "      <td>0.000000</td>\n",
       "      <td>2.000000</td>\n",
       "      <td>2.000000</td>\n",
       "    </tr>\n",
       "    <tr>\n",
       "      <td>50%</td>\n",
       "      <td>60.000000</td>\n",
       "      <td>13.000000</td>\n",
       "      <td>0.000000</td>\n",
       "      <td>2.800000e+06</td>\n",
       "      <td>2.000000</td>\n",
       "      <td>0.000000</td>\n",
       "      <td>3.000000</td>\n",
       "      <td>3.000000</td>\n",
       "    </tr>\n",
       "    <tr>\n",
       "      <td>75%</td>\n",
       "      <td>216.000000</td>\n",
       "      <td>31.000000</td>\n",
       "      <td>6.000000</td>\n",
       "      <td>7.850000e+06</td>\n",
       "      <td>2.250000</td>\n",
       "      <td>1.000000</td>\n",
       "      <td>5.000000</td>\n",
       "      <td>3.000000</td>\n",
       "    </tr>\n",
       "    <tr>\n",
       "      <td>max</td>\n",
       "      <td>1535.000000</td>\n",
       "      <td>594.000000</td>\n",
       "      <td>50.000000</td>\n",
       "      <td>7.700000e+07</td>\n",
       "      <td>7.000000</td>\n",
       "      <td>13.000000</td>\n",
       "      <td>24.000000</td>\n",
       "      <td>5.000000</td>\n",
       "    </tr>\n",
       "  </tbody>\n",
       "</table>\n",
       "</div>"
      ],
      "text/plain": [
       "       Internet Activity Score  Employee Count  Employees count MoM change  \\\n",
       "count               407.000000      306.000000                  267.000000   \n",
       "mean                114.159705       31.408497                   -1.299625   \n",
       "std                 225.651419       62.673600                   23.967085   \n",
       "min                -725.000000        0.000000                 -100.000000   \n",
       "25%                  -3.500000        4.250000                    0.000000   \n",
       "50%                  60.000000       13.000000                    0.000000   \n",
       "75%                 216.000000       31.000000                    6.000000   \n",
       "max                1535.000000      594.000000                   50.000000   \n",
       "\n",
       "       Last Funding Amount  Number of Co-founders  Number of of advisors  \\\n",
       "count         3.120000e+02             472.000000             472.000000   \n",
       "mean          6.379489e+06               1.868644               1.016949   \n",
       "std           9.901622e+06               1.143481               2.014736   \n",
       "min           1.000000e+04               0.000000               0.000000   \n",
       "25%           7.500000e+05               1.000000               0.000000   \n",
       "50%           2.800000e+06               2.000000               0.000000   \n",
       "75%           7.850000e+06               2.250000               1.000000   \n",
       "max           7.700000e+07               7.000000              13.000000   \n",
       "\n",
       "       Team size Senior leadership  Industry trend in investing  \n",
       "count                   472.000000                   390.000000  \n",
       "mean                      3.730932                     2.889744  \n",
       "std                       2.516539                     0.845765  \n",
       "min                       1.000000                     0.000000  \n",
       "25%                       2.000000                     2.000000  \n",
       "50%                       3.000000                     3.000000  \n",
       "75%                       5.000000                     3.000000  \n",
       "max                      24.000000                     5.000000  "
      ]
     },
     "execution_count": 8,
     "metadata": {},
     "output_type": "execute_result"
    }
   ],
   "source": [
    "df.describe()"
   ]
  },
  {
   "cell_type": "code",
   "execution_count": null,
   "metadata": {},
   "outputs": [],
   "source": []
  },
  {
   "cell_type": "markdown",
   "metadata": {},
   "source": [
    "# Visualisations"
   ]
  },
  {
   "cell_type": "markdown",
   "metadata": {},
   "source": [
    "### Let us see the number of Startups that have either succeeded or failed: "
   ]
  },
  {
   "cell_type": "code",
   "execution_count": 20,
   "metadata": {},
   "outputs": [
    {
     "data": {
      "image/png": "[encoded data removed]",
      "text/plain": [
       "<Figure size 576x576 with 1 Axes>"
      ]
     },
     "metadata": {
      "needs_background": "light"
     },
     "output_type": "display_data"
    }
   ],
   "source": [
    "fig, ax = plt.subplots()\n",
    "sns.countplot(x='Dependent-Company Status',data=df)\n",
    "fig.set_size_inches(8,8)\n",
    "plt.title(\"Status of Company\")\n",
    "plt.xlabel(\"Company Status\")\n",
    "plt.ylabel(\"Number of Companies\")\n",
    "plt.show()"
   ]
  },
  {
   "cell_type": "markdown",
   "metadata": {},
   "source": [
    "### Let us see the distribution of companies among the classes"
   ]
  },
  {
   "cell_type": "code",
   "execution_count": 11,
   "metadata": {},
   "outputs": [],
   "source": [
    "success_df = df[df['Dependent-Company Status']==\"Success\"]\n",
    "failed_df = df[df['Dependent-Company Status']==\"Failed\"]\n"
   ]
  },
  {
   "cell_type": "code",
   "execution_count": 30,
   "metadata": {},
   "outputs": [
    {
     "data": {
      "image/png": "[encoded data removed]",
      "text/plain": [
       "<Figure size 432x288 with 1 Axes>"
      ]
     },
     "metadata": {
      "needs_background": "light"
     },
     "output_type": "display_data"
    }
   ],
   "source": [
    "# success_df['Age of company in years'].index\n",
    "# success_df['Age of company in years'].values\n",
    "\n",
    "plt.hist(success_df['Age of company in years'].replace(to_replace=['No Info',np.nan],value=\"0\").astype(int))\n",
    "plt.xlabel(\"Age of Company in years\")\n",
    "plt.ylabel(\"Number of companies\")\n",
    "plt.title(\"Successful Companies distribution\")\n",
    "plt.show()"
   ]
  },
  {
   "cell_type": "code",
   "execution_count": 31,
   "metadata": {},
   "outputs": [
    {
     "data": {
      "image/png": "[encoded data removed]",
      "text/plain": [
       "<Figure size 432x288 with 1 Axes>"
      ]
     },
     "metadata": {
      "needs_background": "light"
     },
     "output_type": "display_data"
    }
   ],
   "source": [
    "plt.hist(failed_df['Age of company in years'].replace(to_replace=['No Info',np.nan],value=\"0\").astype(int))\n",
    "plt.xlabel(\"Age of Company in years\")\n",
    "plt.ylabel(\"Number of companies\")\n",
    "plt.title(\"Failed Companies distribution\")\n",
    "plt.show()"
   ]
  },
  {
   "cell_type": "markdown",
   "metadata": {},
   "source": [
    "From the figures, it is clear that most of the startups call it quits less than a year into operation\n",
    "whereas the most number of startups have been in operation for around 4 years"
   ]
  },
  {
   "cell_type": "code",
   "execution_count": null,
   "metadata": {},
   "outputs": [],
   "source": []
  }
 ],
 "metadata": {
  "kernelspec": {
   "display_name": "Python 3",
   "language": "python",
   "name": "python3"
  },
  "language_info": {
   "codemirror_mode": {
    "name": "ipython",
    "version": 3
   },
   "file_extension": ".py",
   "mimetype": "text/x-python",
   "name": "python",
   "nbconvert_exporter": "python",
   "pygments_lexer": "ipython3",
   "version": "3.7.4"
  }
 },
 "nbformat": 4,
 "nbformat_minor": 2
}
