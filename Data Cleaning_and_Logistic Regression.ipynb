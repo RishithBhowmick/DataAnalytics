{
 "cells": [
  {
   "cell_type": "code",
   "execution_count": 1,
   "metadata": {},
   "outputs": [],
   "source": [
    "#1 IMPORTING LIBRARIES\n",
    "import math\n",
    "import pandas as pd  \n",
    "import numpy as np  \n",
    "import matplotlib.pyplot as plt  \n",
    "import seaborn as seabornInstance \n",
    "from sklearn.model_selection import train_test_split \n",
    "from sklearn.linear_model import LinearRegression\n",
    "from sklearn import metrics\n",
    "from scipy import stats\n",
    "%matplotlib inline"
   ]
  },
  {
   "cell_type": "markdown",
   "metadata": {},
   "source": [
    "# Data Cleaning"
   ]
  },
  {
   "cell_type": "code",
   "execution_count": 2,
   "metadata": {},
   "outputs": [],
   "source": [
    "#2 READING DATA\n",
    "dataset = pd.read_csv('StartupData.csv')\n",
    "df = pd.DataFrame(dataset)\n",
    "#df"
   ]
  },
  {
   "cell_type": "code",
   "execution_count": 3,
   "metadata": {
    "scrolled": true
   },
   "outputs": [],
   "source": [
    "#3 FIXING NUMBER OF CO-FOUNDERS COLUMN VALUES\n",
    "for i in range( len(df[\"Number of Co-founders\"]) ):\n",
    "    if (df[\"Number of Co-founders\"][i] == 0):\n",
    "        df.at[i,\"Number of Co-founders\"] = 1"
   ]
  },
  {
   "cell_type": "code",
   "execution_count": 4,
   "metadata": {},
   "outputs": [],
   "source": [
    "#4 FIXING NO-INFO DATA TO NAN FOR USABILITY\n",
    "for col in df:\n",
    "    for i in range( len(df[col]) ):\n",
    "        if (type(df[col][i])) == str:\n",
    "            if df[col][i] == \"No Info\":\n",
    "                df.at[i,col] = np.NaN"
   ]
  },
  {
   "cell_type": "code",
   "execution_count": 5,
   "metadata": {},
   "outputs": [],
   "source": [
    "'''OPTIONAL debugging'''\n",
    "#STIMULUS CHECK FOR NO INFO VALUES.\n",
    "for col in df:\n",
    "    for i in range( len(df[col]) ):\n",
    "        if (type(df[col][i])) == str:\n",
    "            if df[col][i] == \"No Info\":\n",
    "                print(i, col)"
   ]
  },
  {
   "cell_type": "code",
   "execution_count": 12,
   "metadata": {},
   "outputs": [],
   "source": [
    "#REGRESSION."
   ]
  },
  {
   "cell_type": "code",
   "execution_count": 6,
   "metadata": {},
   "outputs": [],
   "source": [
    "#5 SELECTING NUMERICAL COLUMNS\n",
    "numerics = ['int16', 'int32', 'int64', 'float16', 'float32', 'float64']\n",
    "newdf = df.select_dtypes(include=numerics)\n",
    "# newdf"
   ]
  },
  {
   "cell_type": "code",
   "execution_count": 7,
   "metadata": {},
   "outputs": [
    {
     "name": "stderr",
     "output_type": "stream",
     "text": [
      "D:\\Users\\Nymeria\\Anaconda3\\lib\\site-packages\\ipykernel_launcher.py:3: SettingWithCopyWarning: \n",
      "A value is trying to be set on a copy of a slice from a DataFrame.\n",
      "Try using .loc[row_indexer,col_indexer] = value instead\n",
      "\n",
      "See the caveats in the documentation: http://pandas.pydata.org/pandas-docs/stable/user_guide/indexing.html#returning-a-view-versus-a-copy\n",
      "  This is separate from the ipykernel package so we can avoid doing imports until\n"
     ]
    }
   ],
   "source": [
    "#6 ADDING Y COLUMN TO NEWDF\n",
    "temp = df[\"Dependent-Company Status\"]\n",
    "newdf[\"Dependent-Company Status\"] = temp\n",
    "# newdf"
   ]
  },
  {
   "cell_type": "code",
   "execution_count": 8,
   "metadata": {
    "scrolled": true
   },
   "outputs": [],
   "source": [
    "#7 FILLING NAN WITH MEDIAN\n",
    "newdf = newdf.fillna(df.median())\n",
    "# newdf"
   ]
  },
  {
   "cell_type": "code",
   "execution_count": 9,
   "metadata": {},
   "outputs": [],
   "source": [
    "#8 REPLACING ALL SUCCESS WITH 1 AND ALL FAILURE WITH 0\n",
    "newdf[\"Dependent-Company Status\"] = newdf[\"Dependent-Company Status\"].replace({\"Failed\": 0, \"Success\": 1})\n",
    "# newdf"
   ]
  },
  {
   "cell_type": "markdown",
   "metadata": {},
   "source": [
    "# Logistic Regression"
   ]
  },
  {
   "cell_type": "code",
   "execution_count": 17,
   "metadata": {},
   "outputs": [],
   "source": [
    "#SMOTE"
   ]
  },
  {
   "cell_type": "code",
   "execution_count": 18,
   "metadata": {},
   "outputs": [],
   "source": [
    "# !pip3 install -U imbalanced-learn"
   ]
  },
  {
   "cell_type": "code",
   "execution_count": 10,
   "metadata": {},
   "outputs": [
    {
     "name": "stdout",
     "output_type": "stream",
     "text": [
      "size of oversampled data: 428\n",
      "number of failures in data: 214\n",
      "number of successes: 214\n",
      "failure proportion: 0.5\n",
      "success proportion: 0.5\n"
     ]
    }
   ],
   "source": [
    "#9 IMPLEMENTING SMOTE TO RESOLVE IMBALANCE\n",
    "\n",
    "data_final = newdf\n",
    "\n",
    "X = data_final.loc[:, data_final.columns != \"Dependent-Company Status\"]\n",
    "y = data_final.loc[:, data_final.columns == \"Dependent-Company Status\"]\n",
    "\n",
    "from sklearn import preprocessing\n",
    "import matplotlib.pyplot as plt\n",
    "from sklearn.linear_model import LogisticRegression\n",
    "from sklearn.model_selection import train_test_split\n",
    "from imblearn import under_sampling, over_sampling\n",
    "from imblearn.over_sampling import SMOTE\n",
    "os = SMOTE(random_state=0)\n",
    "X_train, X_test, y_train, y_test = train_test_split(X, y, test_size=0.3, random_state=0)\n",
    "columns = X_train.columns\n",
    "os_data_X,os_data_y=os.fit_sample(X_train, y_train)\n",
    "os_data_X = pd.DataFrame(data=os_data_X,columns=columns )\n",
    "os_data_y= pd.DataFrame(data=os_data_y,columns=[\"Dependent-Company Status\"])\n",
    "\n",
    "print(\"size of oversampled data:\",len(os_data_X))\n",
    "print(\"number of failures in data:\",len(os_data_y[os_data_y[\"Dependent-Company Status\"]==0]))\n",
    "print(\"number of successes:\",len(os_data_y[os_data_y[\"Dependent-Company Status\"]==1]))\n",
    "print(\"failure proportion:\",len(os_data_y[os_data_y[\"Dependent-Company Status\"]==0])/len(os_data_X))\n",
    "print(\"success proportion:\",len(os_data_y[os_data_y[\"Dependent-Company Status\"]==1])/len(os_data_X))"
   ]
  },
  {
   "cell_type": "code",
   "execution_count": 11,
   "metadata": {
    "scrolled": true
   },
   "outputs": [
    {
     "name": "stderr",
     "output_type": "stream",
     "text": [
      "D:\\Users\\Nymeria\\Anaconda3\\lib\\site-packages\\sklearn\\utils\\validation.py:70: FutureWarning: Pass n_features_to_select=20 as keyword args. From version 0.25 passing these as positional arguments will result in an error\n",
      "  FutureWarning)\n"
     ]
    },
    {
     "name": "stdout",
     "output_type": "stream",
     "text": [
      "[ True  True  True  True  True  True  True  True]\n",
      "[1 1 1 1 1 1 1 1]\n"
     ]
    }
   ],
   "source": [
    "#10 RFE TO CHECK FEATURE SELECTION\n",
    "data_final_vars=data_final.columns.values.tolist()\n",
    "y=[\"Dependent-Company Status\"]\n",
    "X=[i for i in data_final_vars if i not in y]\n",
    "\n",
    "from sklearn.feature_selection import RFE\n",
    "from sklearn.linear_model import LogisticRegression\n",
    "logreg = LogisticRegression()\n",
    "rfe = RFE(logreg, 20)\n",
    "rfe = rfe.fit(os_data_X, os_data_y.values.ravel())\n",
    "print(rfe.support_)\n",
    "print(rfe.ranking_)"
   ]
  },
  {
   "cell_type": "code",
   "execution_count": 12,
   "metadata": {},
   "outputs": [],
   "source": [
    "#11 SETTING TARGETS\n",
    "cols=[\"Internet Activity Score\", \"Employee Count\", \"Employees count MoM change\", \"Last Funding Amount\", \"Number of Co-founders\", \"Number of of advisors\", \"Team size Senior leadership\", \"Industry trend in investing\"]\n",
    "X=os_data_X[cols]\n",
    "y=os_data_y[\"Dependent-Company Status\"]"
   ]
  },
  {
   "cell_type": "code",
   "execution_count": 13,
   "metadata": {},
   "outputs": [],
   "source": [
    "# EXPORTING INTERMEDIATE CLEAN DATA\n",
    "import pickle\n",
    "X_file = open('X_clean','wb')\n",
    "y_file = open('y_clean','wb')\n",
    "pickle.dump(X,X_file)\n",
    "pickle.dump(y,y_file)\n",
    "X_file.close()\n",
    "y_file.close()"
   ]
  },
  {
   "cell_type": "code",
   "execution_count": 22,
   "metadata": {},
   "outputs": [],
   "source": [
    "#IMPLEMENTING THE MODEL"
   ]
  },
  {
   "cell_type": "code",
   "execution_count": 14,
   "metadata": {},
   "outputs": [
    {
     "name": "stdout",
     "output_type": "stream",
     "text": [
      "Optimization terminated successfully.\n",
      "         Current function value: 0.528488\n",
      "         Iterations 6\n",
      "                              Results: Logit\n",
      "===========================================================================\n",
      "Model:                Logit                    Pseudo R-squared: 0.238     \n",
      "Dependent Variable:   Dependent-Company Status AIC:              468.3860  \n",
      "Date:                 2020-11-30 17:34         BIC:              500.8590  \n",
      "No. Observations:     428                      Log-Likelihood:   -226.19   \n",
      "Df Model:             7                        LL-Null:          -296.67   \n",
      "Df Residuals:         420                      LLR p-value:      3.2173e-27\n",
      "Converged:            1.0000                   Scale:            1.0000    \n",
      "No. Iterations:       6.0000                                               \n",
      "---------------------------------------------------------------------------\n",
      "                             Coef.  Std.Err.    z    P>|z|   [0.025  0.975]\n",
      "---------------------------------------------------------------------------\n",
      "Internet Activity Score      0.0032   0.0008  3.9129 0.0001  0.0016  0.0049\n",
      "Employee Count               0.0045   0.0039  1.1514 0.2496 -0.0032  0.0122\n",
      "Employees count MoM change   0.0211   0.0072  2.9491 0.0032  0.0071  0.0352\n",
      "Last Funding Amount         -0.0000   0.0000 -2.9344 0.0033 -0.0000 -0.0000\n",
      "Number of Co-founders        0.5424   0.1304  4.1587 0.0000  0.2868  0.7980\n",
      "Number of of advisors        0.3710   0.1053  3.5217 0.0004  0.1645  0.5774\n",
      "Team size Senior leadership  0.2196   0.0643  3.4169 0.0006  0.0937  0.3456\n",
      "Industry trend in investing -0.6701   0.0975 -6.8724 0.0000 -0.8612 -0.4790\n",
      "===========================================================================\n",
      "\n"
     ]
    }
   ],
   "source": [
    "#12\n",
    "import statsmodels.api as sm\n",
    "logit_model=sm.Logit(y,X)\n",
    "result=logit_model.fit()\n",
    "print(result.summary2())"
   ]
  },
  {
   "cell_type": "code",
   "execution_count": 24,
   "metadata": {},
   "outputs": [],
   "source": [
    "#MODEL FITTING"
   ]
  },
  {
   "cell_type": "code",
   "execution_count": 15,
   "metadata": {},
   "outputs": [
    {
     "data": {
      "text/plain": [
       "LogisticRegression()"
      ]
     },
     "execution_count": 15,
     "metadata": {},
     "output_type": "execute_result"
    }
   ],
   "source": [
    "#13\n",
    "from sklearn.linear_model import LogisticRegression\n",
    "from sklearn import metrics\n",
    "X_train, X_test, y_train, y_test = train_test_split(X, y, test_size=0.3, random_state=0)\n",
    "logreg = LogisticRegression()\n",
    "logreg.fit(X_train, y_train)"
   ]
  },
  {
   "cell_type": "code",
   "execution_count": 26,
   "metadata": {},
   "outputs": [],
   "source": [
    "#PREDICTING ACCURACY"
   ]
  },
  {
   "cell_type": "code",
   "execution_count": 16,
   "metadata": {},
   "outputs": [
    {
     "name": "stdout",
     "output_type": "stream",
     "text": [
      "Accuracy of logistic regression classifier on test set: 0.64\n"
     ]
    }
   ],
   "source": [
    "#14\n",
    "y_pred = logreg.predict(X_test)\n",
    "print('Accuracy of logistic regression classifier on test set: {:.2f}'.format(logreg.score(X_test, y_test)))"
   ]
  },
  {
   "cell_type": "code",
   "execution_count": 28,
   "metadata": {},
   "outputs": [],
   "source": [
    "#CONFUSION MATRIX"
   ]
  },
  {
   "cell_type": "code",
   "execution_count": 17,
   "metadata": {},
   "outputs": [
    {
     "name": "stdout",
     "output_type": "stream",
     "text": [
      "[[31 32]\n",
      " [14 52]]\n"
     ]
    }
   ],
   "source": [
    "#15\n",
    "from sklearn.metrics import confusion_matrix\n",
    "confusion_matrix = confusion_matrix(y_test, y_pred)\n",
    "print(confusion_matrix)"
   ]
  },
  {
   "cell_type": "code",
   "execution_count": 30,
   "metadata": {},
   "outputs": [],
   "source": [
    "#COMPUTING METRICS"
   ]
  },
  {
   "cell_type": "code",
   "execution_count": 18,
   "metadata": {},
   "outputs": [
    {
     "name": "stdout",
     "output_type": "stream",
     "text": [
      "              precision    recall  f1-score   support\n",
      "\n",
      "           0       0.69      0.49      0.57        63\n",
      "           1       0.62      0.79      0.69        66\n",
      "\n",
      "    accuracy                           0.64       129\n",
      "   macro avg       0.65      0.64      0.63       129\n",
      "weighted avg       0.65      0.64      0.64       129\n",
      "\n"
     ]
    }
   ],
   "source": [
    "#16\n",
    "from sklearn.metrics import classification_report\n",
    "print(classification_report(y_test, y_pred))"
   ]
  },
  {
   "cell_type": "code",
   "execution_count": 32,
   "metadata": {},
   "outputs": [],
   "source": [
    "#ROC CURVE"
   ]
  },
  {
   "cell_type": "code",
   "execution_count": 19,
   "metadata": {},
   "outputs": [
    {
     "data": {
      "image/png": "[encoded data removed]",
      "text/plain": [
       "<Figure size 432x288 with 1 Axes>"
      ]
     },
     "metadata": {
      "needs_background": "light"
     },
     "output_type": "display_data"
    }
   ],
   "source": [
    "#17\n",
    "from sklearn.metrics import roc_auc_score\n",
    "from sklearn.metrics import roc_curve\n",
    "logit_roc_auc = roc_auc_score(y_test, logreg.predict(X_test))\n",
    "fpr, tpr, thresholds = roc_curve(y_test, logreg.predict_proba(X_test)[:,1])\n",
    "plt.figure()\n",
    "plt.plot(fpr, tpr, label='Logistic Regression (area = %0.2f)' % logit_roc_auc)\n",
    "plt.plot([0, 1], [0, 1],'r--')\n",
    "plt.xlim([0.0, 1.0])\n",
    "plt.ylim([0.0, 1.05])\n",
    "plt.xlabel('False Positive Rate')\n",
    "plt.ylabel('True Positive Rate')\n",
    "plt.title('Receiver operating characteristic')\n",
    "plt.legend(loc=\"lower right\")\n",
    "plt.savefig('Log_ROC')\n",
    "plt.show()"
   ]
  },
  {
   "cell_type": "code",
   "execution_count": 20,
   "metadata": {},
   "outputs": [],
   "source": [
    "#18\n",
    "from sklearn.metrics import accuracy_score,precision_score,recall_score,roc_auc_score\n",
    "from sklearn.metrics import roc_curve\n",
    "from sklearn.metrics import roc_auc_score\n",
    "import sklearn as sk"
   ]
  },
  {
   "cell_type": "code",
   "execution_count": 21,
   "metadata": {},
   "outputs": [],
   "source": [
    "#19\n",
    "def get_metrics(y_test,y_pred):\n",
    "    print(\"Accuracy\",accuracy_score(y_test,y_pred))\n",
    "    print(\"Success Precision: \",precision_score(y_test,y_pred,pos_label=1))\n",
    "    print(\"Failed Precision: \",precision_score(y_test,y_pred,pos_label=0))\n",
    "    print(\"Success Recall: \",recall_score(y_test,y_pred))\n",
    "    print(\"Failed Recall: \",recall_score(y_test,y_pred,pos_label=0))\n",
    "    print(\"Confusion Matrix: \\n\",sk.metrics.confusion_matrix(y_test,y_pred))"
   ]
  },
  {
   "cell_type": "code",
   "execution_count": 22,
   "metadata": {},
   "outputs": [
    {
     "name": "stdout",
     "output_type": "stream",
     "text": [
      "Accuracy 0.6434108527131783\n",
      "Success Precision:  0.6190476190476191\n",
      "Failed Precision:  0.6888888888888889\n",
      "Success Recall:  0.7878787878787878\n",
      "Failed Recall:  0.49206349206349204\n",
      "Confusion Matrix: \n",
      " [[31 32]\n",
      " [14 52]]\n"
     ]
    }
   ],
   "source": [
    "#20\n",
    "get_metrics(y_test,y_pred)"
   ]
  }
 ],
 "metadata": {
  "kernelspec": {
   "display_name": "Python 3",
   "language": "python",
   "name": "python3"
  },
  "language_info": {
   "codemirror_mode": {
    "name": "ipython",
    "version": 3
   },
   "file_extension": ".py",
   "mimetype": "text/x-python",
   "name": "python",
   "nbconvert_exporter": "python",
   "pygments_lexer": "ipython3",
   "version": "3.7.4"
  }
 },
 "nbformat": 4,
 "nbformat_minor": 4
}
