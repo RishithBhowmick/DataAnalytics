{
 "cells": [
  {
   "cell_type": "code",
   "execution_count": 48,
   "metadata": {},
   "outputs": [],
   "source": [
    "import pandas as pd\n",
    "import sklearn as sk\n",
    "import numpy as np\n"
   ]
  },
  {
   "cell_type": "code",
   "execution_count": 96,
   "metadata": {},
   "outputs": [],
   "source": [
    "from sklearn import preprocessing"
   ]
  },
  {
   "cell_type": "markdown",
   "metadata": {},
   "source": [
    "from sklearn.model_selection import train_test_split\n",
    "from sklearn.impute import SimpleImputer\n",
    "from sklearn.tree import DecisionTreeClassifier\n"
   ]
  },
  {
   "cell_type": "code",
   "execution_count": 115,
   "metadata": {},
   "outputs": [],
   "source": [
    "from sklearn.metrics import accuracy_score,precision_score,recall_score,roc_auc_score"
   ]
  },
  {
   "cell_type": "code",
   "execution_count": 2,
   "metadata": {},
   "outputs": [],
   "source": [
    "df = pd.read_csv(\"StartupData.csv\")"
   ]
  },
  {
   "cell_type": "code",
   "execution_count": 4,
   "metadata": {},
   "outputs": [
    {
     "data": {
      "text/html": [
       "<div>\n",
       "<style scoped>\n",
       "    .dataframe tbody tr th:only-of-type {\n",
       "        vertical-align: middle;\n",
       "    }\n",
       "\n",
       "    .dataframe tbody tr th {\n",
       "        vertical-align: top;\n",
       "    }\n",
       "\n",
       "    .dataframe thead th {\n",
       "        text-align: right;\n",
       "    }\n",
       "</style>\n",
       "<table border=\"1\" class=\"dataframe\">\n",
       "  <thead>\n",
       "    <tr style=\"text-align: right;\">\n",
       "      <th></th>\n",
       "      <th>Company_Name</th>\n",
       "      <th>Dependent-Company Status</th>\n",
       "      <th>year of founding</th>\n",
       "      <th>Age of company in years</th>\n",
       "      <th>Internet Activity Score</th>\n",
       "      <th>Short Description of company profile</th>\n",
       "      <th>Industry of company</th>\n",
       "      <th>Focus functions of company</th>\n",
       "      <th>Investors</th>\n",
       "      <th>Employee Count</th>\n",
       "      <th>...</th>\n",
       "      <th>Percent_skill_Data Science</th>\n",
       "      <th>Percent_skill_Business Strategy</th>\n",
       "      <th>Percent_skill_Product Management</th>\n",
       "      <th>Percent_skill_Sales</th>\n",
       "      <th>Percent_skill_Domain</th>\n",
       "      <th>Percent_skill_Law</th>\n",
       "      <th>Percent_skill_Consulting</th>\n",
       "      <th>Percent_skill_Finance</th>\n",
       "      <th>Percent_skill_Investment</th>\n",
       "      <th>Renown score</th>\n",
       "    </tr>\n",
       "  </thead>\n",
       "  <tbody>\n",
       "    <tr>\n",
       "      <th>0</th>\n",
       "      <td>Company1</td>\n",
       "      <td>Success</td>\n",
       "      <td>No Info</td>\n",
       "      <td>No Info</td>\n",
       "      <td>-1.0</td>\n",
       "      <td>Video distribution</td>\n",
       "      <td>NaN</td>\n",
       "      <td>operation</td>\n",
       "      <td>KPCB Holdings|Draper Fisher Jurvetson (DFJ)|Kl...</td>\n",
       "      <td>3.0</td>\n",
       "      <td>...</td>\n",
       "      <td>0</td>\n",
       "      <td>0</td>\n",
       "      <td>0</td>\n",
       "      <td>0</td>\n",
       "      <td>0</td>\n",
       "      <td>0</td>\n",
       "      <td>0</td>\n",
       "      <td>0</td>\n",
       "      <td>0</td>\n",
       "      <td>0</td>\n",
       "    </tr>\n",
       "    <tr>\n",
       "      <th>1</th>\n",
       "      <td>Company2</td>\n",
       "      <td>Success</td>\n",
       "      <td>2011</td>\n",
       "      <td>3</td>\n",
       "      <td>125.0</td>\n",
       "      <td>NaN</td>\n",
       "      <td>Market Research|Marketing|Crowdfunding</td>\n",
       "      <td>Marketing, sales</td>\n",
       "      <td>NaN</td>\n",
       "      <td>NaN</td>\n",
       "      <td>...</td>\n",
       "      <td>8.823529412</td>\n",
       "      <td>21.76470588</td>\n",
       "      <td>10.88235294</td>\n",
       "      <td>2.941176471</td>\n",
       "      <td>0</td>\n",
       "      <td>0</td>\n",
       "      <td>0</td>\n",
       "      <td>0</td>\n",
       "      <td>0</td>\n",
       "      <td>8</td>\n",
       "    </tr>\n",
       "    <tr>\n",
       "      <th>2</th>\n",
       "      <td>Company3</td>\n",
       "      <td>Success</td>\n",
       "      <td>2011</td>\n",
       "      <td>3</td>\n",
       "      <td>455.0</td>\n",
       "      <td>Event Data Analytics API</td>\n",
       "      <td>Analytics|Cloud Computing|Software Development</td>\n",
       "      <td>operations</td>\n",
       "      <td>TechStars|Streamlined Ventures|Amplify Partner...</td>\n",
       "      <td>14.0</td>\n",
       "      <td>...</td>\n",
       "      <td>3.846153846</td>\n",
       "      <td>17.09401709</td>\n",
       "      <td>9.401709402</td>\n",
       "      <td>0</td>\n",
       "      <td>2.777777778</td>\n",
       "      <td>0</td>\n",
       "      <td>0</td>\n",
       "      <td>0</td>\n",
       "      <td>0</td>\n",
       "      <td>9</td>\n",
       "    </tr>\n",
       "    <tr>\n",
       "      <th>3</th>\n",
       "      <td>Company4</td>\n",
       "      <td>Success</td>\n",
       "      <td>2009</td>\n",
       "      <td>5</td>\n",
       "      <td>-99.0</td>\n",
       "      <td>The most advanced analytics for mobile</td>\n",
       "      <td>Mobile|Analytics</td>\n",
       "      <td>Marketing &amp; Sales</td>\n",
       "      <td>Michael Birch|Max Levchin|Sequoia Capital|Keit...</td>\n",
       "      <td>45.0</td>\n",
       "      <td>...</td>\n",
       "      <td>0</td>\n",
       "      <td>0</td>\n",
       "      <td>0</td>\n",
       "      <td>0</td>\n",
       "      <td>0</td>\n",
       "      <td>0</td>\n",
       "      <td>0</td>\n",
       "      <td>0</td>\n",
       "      <td>0</td>\n",
       "      <td>5</td>\n",
       "    </tr>\n",
       "    <tr>\n",
       "      <th>4</th>\n",
       "      <td>Company5</td>\n",
       "      <td>Success</td>\n",
       "      <td>2010</td>\n",
       "      <td>4</td>\n",
       "      <td>496.0</td>\n",
       "      <td>The Location-Based Marketing Platform</td>\n",
       "      <td>Analytics|Marketing|Enterprise Software</td>\n",
       "      <td>Marketing &amp; Sales</td>\n",
       "      <td>DFJ Frontier|Draper Nexus Ventures|Gil Elbaz|A...</td>\n",
       "      <td>39.0</td>\n",
       "      <td>...</td>\n",
       "      <td>0</td>\n",
       "      <td>0</td>\n",
       "      <td>0</td>\n",
       "      <td>0</td>\n",
       "      <td>0</td>\n",
       "      <td>0</td>\n",
       "      <td>0</td>\n",
       "      <td>0</td>\n",
       "      <td>0</td>\n",
       "      <td>6</td>\n",
       "    </tr>\n",
       "  </tbody>\n",
       "</table>\n",
       "<p>5 rows × 116 columns</p>\n",
       "</div>"
      ],
      "text/plain": [
       "  Company_Name Dependent-Company Status year of founding  \\\n",
       "0     Company1                  Success          No Info   \n",
       "1     Company2                  Success             2011   \n",
       "2     Company3                  Success             2011   \n",
       "3     Company4                  Success             2009   \n",
       "4     Company5                  Success             2010   \n",
       "\n",
       "  Age of company in years  Internet Activity Score  \\\n",
       "0                 No Info                     -1.0   \n",
       "1                       3                    125.0   \n",
       "2                       3                    455.0   \n",
       "3                       5                    -99.0   \n",
       "4                       4                    496.0   \n",
       "\n",
       "     Short Description of company profile  \\\n",
       "0                      Video distribution   \n",
       "1                                     NaN   \n",
       "2                Event Data Analytics API   \n",
       "3  The most advanced analytics for mobile   \n",
       "4   The Location-Based Marketing Platform   \n",
       "\n",
       "                              Industry of company Focus functions of company  \\\n",
       "0                                             NaN                  operation   \n",
       "1          Market Research|Marketing|Crowdfunding           Marketing, sales   \n",
       "2  Analytics|Cloud Computing|Software Development                 operations   \n",
       "3                                Mobile|Analytics          Marketing & Sales   \n",
       "4         Analytics|Marketing|Enterprise Software          Marketing & Sales   \n",
       "\n",
       "                                           Investors  Employee Count  ...  \\\n",
       "0  KPCB Holdings|Draper Fisher Jurvetson (DFJ)|Kl...             3.0  ...   \n",
       "1                                                NaN             NaN  ...   \n",
       "2  TechStars|Streamlined Ventures|Amplify Partner...            14.0  ...   \n",
       "3  Michael Birch|Max Levchin|Sequoia Capital|Keit...            45.0  ...   \n",
       "4  DFJ Frontier|Draper Nexus Ventures|Gil Elbaz|A...            39.0  ...   \n",
       "\n",
       "   Percent_skill_Data Science Percent_skill_Business Strategy  \\\n",
       "0                           0                               0   \n",
       "1                 8.823529412                     21.76470588   \n",
       "2                 3.846153846                     17.09401709   \n",
       "3                           0                               0   \n",
       "4                           0                               0   \n",
       "\n",
       "  Percent_skill_Product Management Percent_skill_Sales  Percent_skill_Domain  \\\n",
       "0                                0                   0                     0   \n",
       "1                      10.88235294         2.941176471                     0   \n",
       "2                      9.401709402                   0           2.777777778   \n",
       "3                                0                   0                     0   \n",
       "4                                0                   0                     0   \n",
       "\n",
       "  Percent_skill_Law Percent_skill_Consulting Percent_skill_Finance  \\\n",
       "0                 0                        0                     0   \n",
       "1                 0                        0                     0   \n",
       "2                 0                        0                     0   \n",
       "3                 0                        0                     0   \n",
       "4                 0                        0                     0   \n",
       "\n",
       "  Percent_skill_Investment  Renown score  \n",
       "0                        0             0  \n",
       "1                        0             8  \n",
       "2                        0             9  \n",
       "3                        0             5  \n",
       "4                        0             6  \n",
       "\n",
       "[5 rows x 116 columns]"
      ]
     },
     "execution_count": 4,
     "metadata": {},
     "output_type": "execute_result"
    }
   ],
   "source": [
    "df.head()"
   ]
  },
  {
   "cell_type": "code",
   "execution_count": 10,
   "metadata": {},
   "outputs": [
    {
     "name": "stdout",
     "output_type": "stream",
     "text": [
      "['Company_Name', 'Dependent-Company Status', 'year of founding', 'Age of company in years', 'Internet Activity Score', 'Short Description of company profile', 'Industry of company', 'Focus functions of company', 'Investors', 'Employee Count', 'Employees count MoM change', 'Has the team size grown', 'Est. Founding Date', 'Last Funding Date', 'Last Funding Amount', 'Country of company', 'Continent of company', 'Number of Investors in Seed', 'Number of Investors in Angel and or VC', 'Number of Co-founders', 'Number of of advisors', 'Team size Senior leadership', 'Team size all employees', 'Presence of a top angel or venture fund in previous round of investment', 'Number of of repeat investors', 'Number of  Sales Support material', 'Worked in top companies', 'Average size of companies worked for in the past', 'Have been part of startups in the past?', 'Have been part of successful startups in the past?', 'Was he or she partner in Big 5 consulting?', 'Consulting experience?', 'Product or service company?', 'Catering to product/service across verticals', 'Focus on private or public data?', 'Focus on consumer data?', 'Focus on structured or unstructured data', 'Subscription based business', 'Cloud or platform based serive/product?', 'Local or global player', 'Linear or Non-linear business model', 'Capital intensive business e.g. e-commerce, Engineering products and operations can also cause a business to be capital intensive', 'Number of  of Partners of company', 'Crowdsourcing based business', 'Crowdfunding based business', 'Machine Learning based business', 'Predictive Analytics business', 'Speech analytics business', 'Prescriptive analytics business', 'Big Data Business', 'Cross-Channel Analytics/ marketing channels', 'Owns data or not? (monetization of data) e.g. Factual', 'Is the company an aggregator/market place? e.g. Bluekai', 'Online or offline venture - physical location based business or online venture?', 'B2C or B2B venture?', \"Top forums like 'Tech crunch' or 'Venture beat' talking about the company/model - How much is it being talked about?\", 'Average Years of experience for founder and co founder', 'Exposure across the globe', 'Breadth of experience across verticals', 'Highest education', 'Years of education', 'Specialization of highest education', 'Relevance of education to venture', 'Relevance of experience to venture', 'Degree from a Tier 1 or Tier 2 university?', 'Renowned in professional circle', 'Experience in selling and building products', 'Experience in Fortune 100 organizations', 'Experience in Fortune 500 organizations', 'Experience in Fortune 1000 organizations', 'Top management similarity', 'Number of Recognitions for Founders and Co-founders', 'Number of  of Research publications', 'Skills score', 'Team Composition score', 'Dificulty of Obtaining Work force', 'Pricing Strategy', 'Hyper localisation', 'Time to market service or product', 'Employee benefits and salary structures', 'Long term relationship with other founders', 'Proprietary or patent position (competitive position)', 'Barriers of entry for the competitors', 'Company awards', 'Controversial history of founder or co founder', 'Legal risk and intellectual property', 'Client Reputation', 'google page rank of company website', 'Technical proficiencies to analyse and interpret unstructured data', 'Solutions offered', 'Invested through global incubation competitions?', 'Industry trend in investing', 'Disruptiveness of technology', 'Number of Direct competitors', 'Employees per year of company existence', 'Last round of funding received (in milionUSD)', 'Survival through recession, based on existence of the company through recession times', 'Time to 1st investment (in months)', 'Avg time to investment - average across all rounds, measured from previous investment', 'Gartner hype cycle stage', 'Time to maturity of technology (in years)', 'Percent_skill_Entrepreneurship', 'Percent_skill_Operations', 'Percent_skill_Engineering', 'Percent_skill_Marketing', 'Percent_skill_Leadership', 'Percent_skill_Data Science', 'Percent_skill_Business Strategy', 'Percent_skill_Product Management', 'Percent_skill_Sales', 'Percent_skill_Domain', 'Percent_skill_Law', 'Percent_skill_Consulting', 'Percent_skill_Finance', 'Percent_skill_Investment', 'Renown score']\n"
     ]
    }
   ],
   "source": [
    "print([i for i in df.columns],sep=\"\\n\",end=\"\\n\")"
   ]
  },
  {
   "cell_type": "code",
   "execution_count": 101,
   "metadata": {},
   "outputs": [],
   "source": [
    "X ,y = df[[\"Employee Count\",\"Internet Activity Score\",\"Team size Senior leadership\"]],df[\"Dependent-Company Status\"]"
   ]
  },
  {
   "cell_type": "code",
   "execution_count": 74,
   "metadata": {},
   "outputs": [],
   "source": [
    "def clean_column(dataframe,column_name):\n",
    "    \n",
    "    \"\"\"\n",
    "    Filling the empty values with median or mode if it is a number or an object(string)\n",
    "    \"\"\"\n",
    "        \n",
    "    if type(dataframe[column_name])== int or type(dataframe[column_name])==float:\n",
    "        imp = SimpleImputer(missing_values=0, strategy='median')\n",
    "        return imp.fit_transform(dataframe.loc[:,column_name])\n",
    "        \n",
    "        "
   ]
  },
  {
   "cell_type": "code",
   "execution_count": 75,
   "metadata": {},
   "outputs": [
    {
     "data": {
      "text/html": [
       "<div>\n",
       "<style scoped>\n",
       "    .dataframe tbody tr th:only-of-type {\n",
       "        vertical-align: middle;\n",
       "    }\n",
       "\n",
       "    .dataframe tbody tr th {\n",
       "        vertical-align: top;\n",
       "    }\n",
       "\n",
       "    .dataframe thead th {\n",
       "        text-align: right;\n",
       "    }\n",
       "</style>\n",
       "<table border=\"1\" class=\"dataframe\">\n",
       "  <thead>\n",
       "    <tr style=\"text-align: right;\">\n",
       "      <th></th>\n",
       "      <th>Employee Count</th>\n",
       "      <th>Internet Activity Score</th>\n",
       "      <th>Team size Senior leadership</th>\n",
       "    </tr>\n",
       "  </thead>\n",
       "  <tbody>\n",
       "    <tr>\n",
       "      <th>0</th>\n",
       "      <td>3.0</td>\n",
       "      <td>-1.0</td>\n",
       "      <td>2</td>\n",
       "    </tr>\n",
       "    <tr>\n",
       "      <th>1</th>\n",
       "      <td>NaN</td>\n",
       "      <td>125.0</td>\n",
       "      <td>4</td>\n",
       "    </tr>\n",
       "    <tr>\n",
       "      <th>2</th>\n",
       "      <td>14.0</td>\n",
       "      <td>455.0</td>\n",
       "      <td>7</td>\n",
       "    </tr>\n",
       "    <tr>\n",
       "      <th>3</th>\n",
       "      <td>45.0</td>\n",
       "      <td>-99.0</td>\n",
       "      <td>4</td>\n",
       "    </tr>\n",
       "    <tr>\n",
       "      <th>4</th>\n",
       "      <td>39.0</td>\n",
       "      <td>496.0</td>\n",
       "      <td>8</td>\n",
       "    </tr>\n",
       "  </tbody>\n",
       "</table>\n",
       "</div>"
      ],
      "text/plain": [
       "   Employee Count  Internet Activity Score  Team size Senior leadership\n",
       "0             3.0                     -1.0                            2\n",
       "1             NaN                    125.0                            4\n",
       "2            14.0                    455.0                            7\n",
       "3            45.0                    -99.0                            4\n",
       "4            39.0                    496.0                            8"
      ]
     },
     "execution_count": 75,
     "metadata": {},
     "output_type": "execute_result"
    }
   ],
   "source": [
    "X.head()"
   ]
  },
  {
   "cell_type": "code",
   "execution_count": 77,
   "metadata": {},
   "outputs": [
    {
     "data": {
      "text/plain": [
       "Employee Count                 13.0\n",
       "Internet Activity Score        60.0\n",
       "Team size Senior leadership     3.0\n",
       "dtype: float64"
      ]
     },
     "execution_count": 77,
     "metadata": {},
     "output_type": "execute_result"
    }
   ],
   "source": [
    "X.median()"
   ]
  },
  {
   "cell_type": "markdown",
   "metadata": {},
   "source": [
    "## Preprocessing "
   ]
  },
  {
   "cell_type": "code",
   "execution_count": 102,
   "metadata": {},
   "outputs": [],
   "source": [
    "X = X.fillna(X.median())"
   ]
  },
  {
   "cell_type": "code",
   "execution_count": 103,
   "metadata": {},
   "outputs": [
    {
     "data": {
      "text/plain": [
       "Employee Count                 0\n",
       "Internet Activity Score        0\n",
       "Team size Senior leadership    0\n",
       "dtype: int64"
      ]
     },
     "execution_count": 103,
     "metadata": {},
     "output_type": "execute_result"
    }
   ],
   "source": [
    "X.isnull().sum()"
   ]
  },
  {
   "cell_type": "code",
   "execution_count": 104,
   "metadata": {},
   "outputs": [
    {
     "ename": "ValueError",
     "evalue": "Expected 2D array, got 1D array instead:\narray=['Success' 'Success' 'Success' 'Success' 'Success' 'Success' 'Success'\n 'Success' 'Success' 'Success' 'Success' 'Success' 'Success' 'Success'\n 'Success' 'Success' 'Success' 'Success' 'Success' 'Success' 'Success'\n 'Success' 'Success' 'Success' 'Success' 'Success' 'Success' 'Success'\n 'Success' 'Success' 'Success' 'Success' 'Success' 'Success' 'Success'\n 'Success' 'Success' 'Success' 'Success' 'Success' 'Success' 'Success'\n 'Success' 'Success' 'Success' 'Success' 'Success' 'Success' 'Success'\n 'Failed' 'Success' 'Success' 'Success' 'Success' 'Success' 'Success'\n 'Success' 'Success' 'Success' 'Success' 'Success' 'Success' 'Success'\n 'Success' 'Success' 'Success' 'Success' 'Success' 'Success' 'Success'\n 'Success' 'Success' 'Success' 'Success' 'Success' 'Success' 'Success'\n 'Success' 'Success' 'Success' 'Success' 'Success' 'Success' 'Success'\n 'Success' 'Success' 'Success' 'Success' 'Success' 'Success' 'Success'\n 'Success' 'Success' 'Success' 'Success' 'Success' 'Success' 'Success'\n 'Success' 'Success' 'Success' 'Success' 'Success' 'Success' 'Success'\n 'Success' 'Success' 'Success' 'Success' 'Success' 'Success' 'Success'\n 'Success' 'Success' 'Success' 'Success' 'Success' 'Success' 'Success'\n 'Success' 'Success' 'Success' 'Success' 'Success' 'Success' 'Success'\n 'Success' 'Success' 'Success' 'Success' 'Success' 'Success' 'Success'\n 'Success' 'Success' 'Failed' 'Failed' 'Failed' 'Failed' 'Failed' 'Failed'\n 'Failed' 'Failed' 'Failed' 'Failed' 'Failed' 'Failed' 'Failed' 'Success'\n 'Failed' 'Failed' 'Success' 'Failed' 'Failed' 'Success' 'Success'\n 'Success' 'Success' 'Failed' 'Failed' 'Success' 'Success' 'Success'\n 'Success' 'Success' 'Success' 'Success' 'Success' 'Success' 'Failed'\n 'Success' 'Failed' 'Success' 'Success' 'Success' 'Success' 'Success'\n 'Success' 'Success' 'Success' 'Success' 'Success' 'Success' 'Success'\n 'Success' 'Success' 'Success' 'Success' 'Success' 'Success' 'Success'\n 'Success' 'Success' 'Success' 'Success' 'Success' 'Success' 'Success'\n 'Success' 'Success' 'Success' 'Success' 'Success' 'Success' 'Success'\n 'Success' 'Success' 'Success' 'Success' 'Success' 'Success' 'Success'\n 'Success' 'Success' 'Success' 'Success' 'Success' 'Success' 'Success'\n 'Success' 'Success' 'Success' 'Success' 'Failed' 'Failed' 'Success'\n 'Failed' 'Failed' 'Success' 'Success' 'Success' 'Success' 'Failed'\n 'Success' 'Success' 'Success' 'Failed' 'Success' 'Success' 'Success'\n 'Failed' 'Success' 'Success' 'Success' 'Success' 'Success' 'Success'\n 'Success' 'Success' 'Success' 'Success' 'Success' 'Success' 'Success'\n 'Success' 'Success' 'Success' 'Success' 'Success' 'Success' 'Success'\n 'Success' 'Failed' 'Failed' 'Success' 'Success' 'Failed' 'Failed'\n 'Success' 'Failed' 'Failed' 'Failed' 'Failed' 'Failed' 'Failed' 'Failed'\n 'Failed' 'Failed' 'Failed' 'Failed' 'Failed' 'Failed' 'Failed' 'Failed'\n 'Failed' 'Failed' 'Failed' 'Failed' 'Failed' 'Failed' 'Failed' 'Failed'\n 'Failed' 'Failed' 'Failed' 'Failed' 'Failed' 'Failed' 'Success' 'Success'\n 'Success' 'Success' 'Success' 'Success' 'Success' 'Success' 'Success'\n 'Success' 'Success' 'Success' 'Success' 'Success' 'Success' 'Success'\n 'Success' 'Success' 'Success' 'Success' 'Success' 'Success' 'Success'\n 'Success' 'Failed' 'Success' 'Success' 'Success' 'Success' 'Failed'\n 'Success' 'Success' 'Success' 'Success' 'Failed' 'Success' 'Success'\n 'Success' 'Success' 'Failed' 'Success' 'Failed' 'Success' 'Success'\n 'Failed' 'Success' 'Failed' 'Success' 'Success' 'Success' 'Success'\n 'Success' 'Success' 'Success' 'Success' 'Success' 'Success' 'Success'\n 'Success' 'Success' 'Success' 'Success' 'Success' 'Success' 'Success'\n 'Success' 'Success' 'Success' 'Success' 'Failed' 'Success' 'Failed'\n 'Failed' 'Success' 'Success' 'Failed' 'Failed' 'Success' 'Success'\n 'Failed' 'Success' 'Success' 'Failed' 'Failed' 'Failed' 'Failed' 'Failed'\n 'Failed' 'Failed' 'Failed' 'Failed' 'Failed' 'Failed' 'Failed' 'Failed'\n 'Failed' 'Failed' 'Failed' 'Failed' 'Failed' 'Failed' 'Failed' 'Failed'\n 'Failed' 'Failed' 'Failed' 'Failed' 'Failed' 'Failed' 'Failed' 'Failed'\n 'Failed' 'Failed' 'Failed' 'Failed' 'Failed' 'Failed' 'Failed' 'Failed'\n 'Failed' 'Failed' 'Failed' 'Failed' 'Failed' 'Failed' 'Failed' 'Failed'\n 'Failed' 'Failed' 'Failed' 'Failed' 'Failed' 'Failed' 'Failed' 'Failed'\n 'Failed' 'Failed' 'Failed' 'Failed' 'Failed' 'Failed' 'Failed' 'Failed'\n 'Failed' 'Failed' 'Failed' 'Failed' 'Failed' 'Failed' 'Failed' 'Failed'\n 'Failed' 'Failed' 'Failed' 'Failed' 'Failed' 'Failed' 'Failed' 'Failed'\n 'Failed' 'Failed' 'Failed' 'Failed' 'Failed' 'Failed' 'Failed' 'Failed'\n 'Failed' 'Failed' 'Failed' 'Failed' 'Failed' 'Failed' 'Failed'].\nReshape your data either using array.reshape(-1, 1) if your data has a single feature or array.reshape(1, -1) if it contains a single sample.",
     "output_type": "error",
     "traceback": [
      "\u001b[0;31m---------------------------------------------------------------------------\u001b[0m",
      "\u001b[0;31mValueError\u001b[0m                                Traceback (most recent call last)",
      "\u001b[0;32m<ipython-input-104-82ccec6fc04a>\u001b[0m in \u001b[0;36m<module>\u001b[0;34m\u001b[0m\n\u001b[1;32m      1\u001b[0m \u001b[0menc\u001b[0m \u001b[0;34m=\u001b[0m \u001b[0mpreprocessing\u001b[0m\u001b[0;34m.\u001b[0m\u001b[0mOrdinalEncoder\u001b[0m\u001b[0;34m(\u001b[0m\u001b[0;34m)\u001b[0m\u001b[0;34m\u001b[0m\u001b[0;34m\u001b[0m\u001b[0m\n\u001b[0;32m----> 2\u001b[0;31m \u001b[0my\u001b[0m \u001b[0;34m=\u001b[0m \u001b[0menc\u001b[0m\u001b[0;34m.\u001b[0m\u001b[0mfit_transform\u001b[0m\u001b[0;34m(\u001b[0m\u001b[0my\u001b[0m\u001b[0;34m)\u001b[0m\u001b[0;34m\u001b[0m\u001b[0;34m\u001b[0m\u001b[0m\n\u001b[0m",
      "\u001b[0;32m/Library/Frameworks/Python.framework/Versions/3.8/lib/python3.8/site-packages/sklearn/base.py\u001b[0m in \u001b[0;36mfit_transform\u001b[0;34m(self, X, y, **fit_params)\u001b[0m\n\u001b[1;32m    688\u001b[0m         \u001b[0;32mif\u001b[0m \u001b[0my\u001b[0m \u001b[0;32mis\u001b[0m \u001b[0;32mNone\u001b[0m\u001b[0;34m:\u001b[0m\u001b[0;34m\u001b[0m\u001b[0;34m\u001b[0m\u001b[0m\n\u001b[1;32m    689\u001b[0m             \u001b[0;31m# fit method of arity 1 (unsupervised transformation)\u001b[0m\u001b[0;34m\u001b[0m\u001b[0;34m\u001b[0m\u001b[0;34m\u001b[0m\u001b[0m\n\u001b[0;32m--> 690\u001b[0;31m             \u001b[0;32mreturn\u001b[0m \u001b[0mself\u001b[0m\u001b[0;34m.\u001b[0m\u001b[0mfit\u001b[0m\u001b[0;34m(\u001b[0m\u001b[0mX\u001b[0m\u001b[0;34m,\u001b[0m \u001b[0;34m**\u001b[0m\u001b[0mfit_params\u001b[0m\u001b[0;34m)\u001b[0m\u001b[0;34m.\u001b[0m\u001b[0mtransform\u001b[0m\u001b[0;34m(\u001b[0m\u001b[0mX\u001b[0m\u001b[0;34m)\u001b[0m\u001b[0;34m\u001b[0m\u001b[0;34m\u001b[0m\u001b[0m\n\u001b[0m\u001b[1;32m    691\u001b[0m         \u001b[0;32melse\u001b[0m\u001b[0;34m:\u001b[0m\u001b[0;34m\u001b[0m\u001b[0;34m\u001b[0m\u001b[0m\n\u001b[1;32m    692\u001b[0m             \u001b[0;31m# fit method of arity 2 (supervised transformation)\u001b[0m\u001b[0;34m\u001b[0m\u001b[0;34m\u001b[0m\u001b[0;34m\u001b[0m\u001b[0m\n",
      "\u001b[0;32m/Library/Frameworks/Python.framework/Versions/3.8/lib/python3.8/site-packages/sklearn/preprocessing/_encoders.py\u001b[0m in \u001b[0;36mfit\u001b[0;34m(self, X, y)\u001b[0m\n\u001b[1;32m    680\u001b[0m         \u001b[0mself\u001b[0m\u001b[0;34m\u001b[0m\u001b[0;34m\u001b[0m\u001b[0m\n\u001b[1;32m    681\u001b[0m         \"\"\"\n\u001b[0;32m--> 682\u001b[0;31m         \u001b[0mself\u001b[0m\u001b[0;34m.\u001b[0m\u001b[0m_fit\u001b[0m\u001b[0;34m(\u001b[0m\u001b[0mX\u001b[0m\u001b[0;34m)\u001b[0m\u001b[0;34m\u001b[0m\u001b[0;34m\u001b[0m\u001b[0m\n\u001b[0m\u001b[1;32m    683\u001b[0m \u001b[0;34m\u001b[0m\u001b[0m\n\u001b[1;32m    684\u001b[0m         \u001b[0;32mreturn\u001b[0m \u001b[0mself\u001b[0m\u001b[0;34m\u001b[0m\u001b[0;34m\u001b[0m\u001b[0m\n",
      "\u001b[0;32m/Library/Frameworks/Python.framework/Versions/3.8/lib/python3.8/site-packages/sklearn/preprocessing/_encoders.py\u001b[0m in \u001b[0;36m_fit\u001b[0;34m(self, X, handle_unknown)\u001b[0m\n\u001b[1;32m     72\u001b[0m \u001b[0;34m\u001b[0m\u001b[0m\n\u001b[1;32m     73\u001b[0m     \u001b[0;32mdef\u001b[0m \u001b[0m_fit\u001b[0m\u001b[0;34m(\u001b[0m\u001b[0mself\u001b[0m\u001b[0;34m,\u001b[0m \u001b[0mX\u001b[0m\u001b[0;34m,\u001b[0m \u001b[0mhandle_unknown\u001b[0m\u001b[0;34m=\u001b[0m\u001b[0;34m'error'\u001b[0m\u001b[0;34m)\u001b[0m\u001b[0;34m:\u001b[0m\u001b[0;34m\u001b[0m\u001b[0;34m\u001b[0m\u001b[0m\n\u001b[0;32m---> 74\u001b[0;31m         \u001b[0mX_list\u001b[0m\u001b[0;34m,\u001b[0m \u001b[0mn_samples\u001b[0m\u001b[0;34m,\u001b[0m \u001b[0mn_features\u001b[0m \u001b[0;34m=\u001b[0m \u001b[0mself\u001b[0m\u001b[0;34m.\u001b[0m\u001b[0m_check_X\u001b[0m\u001b[0;34m(\u001b[0m\u001b[0mX\u001b[0m\u001b[0;34m)\u001b[0m\u001b[0;34m\u001b[0m\u001b[0;34m\u001b[0m\u001b[0m\n\u001b[0m\u001b[1;32m     75\u001b[0m \u001b[0;34m\u001b[0m\u001b[0m\n\u001b[1;32m     76\u001b[0m         \u001b[0;32mif\u001b[0m \u001b[0mself\u001b[0m\u001b[0;34m.\u001b[0m\u001b[0mcategories\u001b[0m \u001b[0;34m!=\u001b[0m \u001b[0;34m'auto'\u001b[0m\u001b[0;34m:\u001b[0m\u001b[0;34m\u001b[0m\u001b[0;34m\u001b[0m\u001b[0m\n",
      "\u001b[0;32m/Library/Frameworks/Python.framework/Versions/3.8/lib/python3.8/site-packages/sklearn/preprocessing/_encoders.py\u001b[0m in \u001b[0;36m_check_X\u001b[0;34m(self, X)\u001b[0m\n\u001b[1;32m     41\u001b[0m         \u001b[0;32mif\u001b[0m \u001b[0;32mnot\u001b[0m \u001b[0;34m(\u001b[0m\u001b[0mhasattr\u001b[0m\u001b[0;34m(\u001b[0m\u001b[0mX\u001b[0m\u001b[0;34m,\u001b[0m \u001b[0;34m'iloc'\u001b[0m\u001b[0;34m)\u001b[0m \u001b[0;32mand\u001b[0m \u001b[0mgetattr\u001b[0m\u001b[0;34m(\u001b[0m\u001b[0mX\u001b[0m\u001b[0;34m,\u001b[0m \u001b[0;34m'ndim'\u001b[0m\u001b[0;34m,\u001b[0m \u001b[0;36m0\u001b[0m\u001b[0;34m)\u001b[0m \u001b[0;34m==\u001b[0m \u001b[0;36m2\u001b[0m\u001b[0;34m)\u001b[0m\u001b[0;34m:\u001b[0m\u001b[0;34m\u001b[0m\u001b[0;34m\u001b[0m\u001b[0m\n\u001b[1;32m     42\u001b[0m             \u001b[0;31m# if not a dataframe, do normal check_array validation\u001b[0m\u001b[0;34m\u001b[0m\u001b[0;34m\u001b[0m\u001b[0;34m\u001b[0m\u001b[0m\n\u001b[0;32m---> 43\u001b[0;31m             \u001b[0mX_temp\u001b[0m \u001b[0;34m=\u001b[0m \u001b[0mcheck_array\u001b[0m\u001b[0;34m(\u001b[0m\u001b[0mX\u001b[0m\u001b[0;34m,\u001b[0m \u001b[0mdtype\u001b[0m\u001b[0;34m=\u001b[0m\u001b[0;32mNone\u001b[0m\u001b[0;34m)\u001b[0m\u001b[0;34m\u001b[0m\u001b[0;34m\u001b[0m\u001b[0m\n\u001b[0m\u001b[1;32m     44\u001b[0m             if (not hasattr(X, 'dtype')\n\u001b[1;32m     45\u001b[0m                     and np.issubdtype(X_temp.dtype, np.str_)):\n",
      "\u001b[0;32m/Library/Frameworks/Python.framework/Versions/3.8/lib/python3.8/site-packages/sklearn/utils/validation.py\u001b[0m in \u001b[0;36minner_f\u001b[0;34m(*args, **kwargs)\u001b[0m\n\u001b[1;32m     70\u001b[0m                           FutureWarning)\n\u001b[1;32m     71\u001b[0m         \u001b[0mkwargs\u001b[0m\u001b[0;34m.\u001b[0m\u001b[0mupdate\u001b[0m\u001b[0;34m(\u001b[0m\u001b[0;34m{\u001b[0m\u001b[0mk\u001b[0m\u001b[0;34m:\u001b[0m \u001b[0marg\u001b[0m \u001b[0;32mfor\u001b[0m \u001b[0mk\u001b[0m\u001b[0;34m,\u001b[0m \u001b[0marg\u001b[0m \u001b[0;32min\u001b[0m \u001b[0mzip\u001b[0m\u001b[0;34m(\u001b[0m\u001b[0msig\u001b[0m\u001b[0;34m.\u001b[0m\u001b[0mparameters\u001b[0m\u001b[0;34m,\u001b[0m \u001b[0margs\u001b[0m\u001b[0;34m)\u001b[0m\u001b[0;34m}\u001b[0m\u001b[0;34m)\u001b[0m\u001b[0;34m\u001b[0m\u001b[0;34m\u001b[0m\u001b[0m\n\u001b[0;32m---> 72\u001b[0;31m         \u001b[0;32mreturn\u001b[0m \u001b[0mf\u001b[0m\u001b[0;34m(\u001b[0m\u001b[0;34m**\u001b[0m\u001b[0mkwargs\u001b[0m\u001b[0;34m)\u001b[0m\u001b[0;34m\u001b[0m\u001b[0;34m\u001b[0m\u001b[0m\n\u001b[0m\u001b[1;32m     73\u001b[0m     \u001b[0;32mreturn\u001b[0m \u001b[0minner_f\u001b[0m\u001b[0;34m\u001b[0m\u001b[0;34m\u001b[0m\u001b[0m\n\u001b[1;32m     74\u001b[0m \u001b[0;34m\u001b[0m\u001b[0m\n",
      "\u001b[0;32m/Library/Frameworks/Python.framework/Versions/3.8/lib/python3.8/site-packages/sklearn/utils/validation.py\u001b[0m in \u001b[0;36mcheck_array\u001b[0;34m(array, accept_sparse, accept_large_sparse, dtype, order, copy, force_all_finite, ensure_2d, allow_nd, ensure_min_samples, ensure_min_features, estimator)\u001b[0m\n\u001b[1;32m    617\u001b[0m             \u001b[0;31m# If input is 1D raise error\u001b[0m\u001b[0;34m\u001b[0m\u001b[0;34m\u001b[0m\u001b[0;34m\u001b[0m\u001b[0m\n\u001b[1;32m    618\u001b[0m             \u001b[0;32mif\u001b[0m \u001b[0marray\u001b[0m\u001b[0;34m.\u001b[0m\u001b[0mndim\u001b[0m \u001b[0;34m==\u001b[0m \u001b[0;36m1\u001b[0m\u001b[0;34m:\u001b[0m\u001b[0;34m\u001b[0m\u001b[0;34m\u001b[0m\u001b[0m\n\u001b[0;32m--> 619\u001b[0;31m                 raise ValueError(\n\u001b[0m\u001b[1;32m    620\u001b[0m                     \u001b[0;34m\"Expected 2D array, got 1D array instead:\\narray={}.\\n\"\u001b[0m\u001b[0;34m\u001b[0m\u001b[0;34m\u001b[0m\u001b[0m\n\u001b[1;32m    621\u001b[0m                     \u001b[0;34m\"Reshape your data either using array.reshape(-1, 1) if \"\u001b[0m\u001b[0;34m\u001b[0m\u001b[0;34m\u001b[0m\u001b[0m\n",
      "\u001b[0;31mValueError\u001b[0m: Expected 2D array, got 1D array instead:\narray=['Success' 'Success' 'Success' 'Success' 'Success' 'Success' 'Success'\n 'Success' 'Success' 'Success' 'Success' 'Success' 'Success' 'Success'\n 'Success' 'Success' 'Success' 'Success' 'Success' 'Success' 'Success'\n 'Success' 'Success' 'Success' 'Success' 'Success' 'Success' 'Success'\n 'Success' 'Success' 'Success' 'Success' 'Success' 'Success' 'Success'\n 'Success' 'Success' 'Success' 'Success' 'Success' 'Success' 'Success'\n 'Success' 'Success' 'Success' 'Success' 'Success' 'Success' 'Success'\n 'Failed' 'Success' 'Success' 'Success' 'Success' 'Success' 'Success'\n 'Success' 'Success' 'Success' 'Success' 'Success' 'Success' 'Success'\n 'Success' 'Success' 'Success' 'Success' 'Success' 'Success' 'Success'\n 'Success' 'Success' 'Success' 'Success' 'Success' 'Success' 'Success'\n 'Success' 'Success' 'Success' 'Success' 'Success' 'Success' 'Success'\n 'Success' 'Success' 'Success' 'Success' 'Success' 'Success' 'Success'\n 'Success' 'Success' 'Success' 'Success' 'Success' 'Success' 'Success'\n 'Success' 'Success' 'Success' 'Success' 'Success' 'Success' 'Success'\n 'Success' 'Success' 'Success' 'Success' 'Success' 'Success' 'Success'\n 'Success' 'Success' 'Success' 'Success' 'Success' 'Success' 'Success'\n 'Success' 'Success' 'Success' 'Success' 'Success' 'Success' 'Success'\n 'Success' 'Success' 'Success' 'Success' 'Success' 'Success' 'Success'\n 'Success' 'Success' 'Failed' 'Failed' 'Failed' 'Failed' 'Failed' 'Failed'\n 'Failed' 'Failed' 'Failed' 'Failed' 'Failed' 'Failed' 'Failed' 'Success'\n 'Failed' 'Failed' 'Success' 'Failed' 'Failed' 'Success' 'Success'\n 'Success' 'Success' 'Failed' 'Failed' 'Success' 'Success' 'Success'\n 'Success' 'Success' 'Success' 'Success' 'Success' 'Success' 'Failed'\n 'Success' 'Failed' 'Success' 'Success' 'Success' 'Success' 'Success'\n 'Success' 'Success' 'Success' 'Success' 'Success' 'Success' 'Success'\n 'Success' 'Success' 'Success' 'Success' 'Success' 'Success' 'Success'\n 'Success' 'Success' 'Success' 'Success' 'Success' 'Success' 'Success'\n 'Success' 'Success' 'Success' 'Success' 'Success' 'Success' 'Success'\n 'Success' 'Success' 'Success' 'Success' 'Success' 'Success' 'Success'\n 'Success' 'Success' 'Success' 'Success' 'Success' 'Success' 'Success'\n 'Success' 'Success' 'Success' 'Success' 'Failed' 'Failed' 'Success'\n 'Failed' 'Failed' 'Success' 'Success' 'Success' 'Success' 'Failed'\n 'Success' 'Success' 'Success' 'Failed' 'Success' 'Success' 'Success'\n 'Failed' 'Success' 'Success' 'Success' 'Success' 'Success' 'Success'\n 'Success' 'Success' 'Success' 'Success' 'Success' 'Success' 'Success'\n 'Success' 'Success' 'Success' 'Success' 'Success' 'Success' 'Success'\n 'Success' 'Failed' 'Failed' 'Success' 'Success' 'Failed' 'Failed'\n 'Success' 'Failed' 'Failed' 'Failed' 'Failed' 'Failed' 'Failed' 'Failed'\n 'Failed' 'Failed' 'Failed' 'Failed' 'Failed' 'Failed' 'Failed' 'Failed'\n 'Failed' 'Failed' 'Failed' 'Failed' 'Failed' 'Failed' 'Failed' 'Failed'\n 'Failed' 'Failed' 'Failed' 'Failed' 'Failed' 'Failed' 'Success' 'Success'\n 'Success' 'Success' 'Success' 'Success' 'Success' 'Success' 'Success'\n 'Success' 'Success' 'Success' 'Success' 'Success' 'Success' 'Success'\n 'Success' 'Success' 'Success' 'Success' 'Success' 'Success' 'Success'\n 'Success' 'Failed' 'Success' 'Success' 'Success' 'Success' 'Failed'\n 'Success' 'Success' 'Success' 'Success' 'Failed' 'Success' 'Success'\n 'Success' 'Success' 'Failed' 'Success' 'Failed' 'Success' 'Success'\n 'Failed' 'Success' 'Failed' 'Success' 'Success' 'Success' 'Success'\n 'Success' 'Success' 'Success' 'Success' 'Success' 'Success' 'Success'\n 'Success' 'Success' 'Success' 'Success' 'Success' 'Success' 'Success'\n 'Success' 'Success' 'Success' 'Success' 'Failed' 'Success' 'Failed'\n 'Failed' 'Success' 'Success' 'Failed' 'Failed' 'Success' 'Success'\n 'Failed' 'Success' 'Success' 'Failed' 'Failed' 'Failed' 'Failed' 'Failed'\n 'Failed' 'Failed' 'Failed' 'Failed' 'Failed' 'Failed' 'Failed' 'Failed'\n 'Failed' 'Failed' 'Failed' 'Failed' 'Failed' 'Failed' 'Failed' 'Failed'\n 'Failed' 'Failed' 'Failed' 'Failed' 'Failed' 'Failed' 'Failed' 'Failed'\n 'Failed' 'Failed' 'Failed' 'Failed' 'Failed' 'Failed' 'Failed' 'Failed'\n 'Failed' 'Failed' 'Failed' 'Failed' 'Failed' 'Failed' 'Failed' 'Failed'\n 'Failed' 'Failed' 'Failed' 'Failed' 'Failed' 'Failed' 'Failed' 'Failed'\n 'Failed' 'Failed' 'Failed' 'Failed' 'Failed' 'Failed' 'Failed' 'Failed'\n 'Failed' 'Failed' 'Failed' 'Failed' 'Failed' 'Failed' 'Failed' 'Failed'\n 'Failed' 'Failed' 'Failed' 'Failed' 'Failed' 'Failed' 'Failed' 'Failed'\n 'Failed' 'Failed' 'Failed' 'Failed' 'Failed' 'Failed' 'Failed' 'Failed'\n 'Failed' 'Failed' 'Failed' 'Failed' 'Failed' 'Failed' 'Failed'].\nReshape your data either using array.reshape(-1, 1) if your data has a single feature or array.reshape(1, -1) if it contains a single sample."
     ]
    }
   ],
   "source": [
    "enc = preprocessing.OrdinalEncoder()\n",
    "y = enc.fit_transform(y)"
   ]
  },
  {
   "cell_type": "markdown",
   "metadata": {},
   "source": [
    "## Model Building"
   ]
  },
  {
   "cell_type": "code",
   "execution_count": 105,
   "metadata": {},
   "outputs": [],
   "source": [
    "X_train, X_test, y_train, y_test = train_test_split(X,y,test_size=0.3,random_state=0)"
   ]
  },
  {
   "cell_type": "code",
   "execution_count": 106,
   "metadata": {},
   "outputs": [],
   "source": [
    "clf = DecisionTreeClassifier(criterion=\"entropy\")"
   ]
  },
  {
   "cell_type": "code",
   "execution_count": 107,
   "metadata": {},
   "outputs": [
    {
     "data": {
      "text/plain": [
       "DecisionTreeClassifier(criterion='entropy')"
      ]
     },
     "execution_count": 107,
     "metadata": {},
     "output_type": "execute_result"
    }
   ],
   "source": [
    "clf.fit(X_train,y_train)"
   ]
  },
  {
   "cell_type": "code",
   "execution_count": 108,
   "metadata": {},
   "outputs": [],
   "source": [
    "y_pred = clf.predict(X_test)"
   ]
  },
  {
   "cell_type": "code",
   "execution_count": 127,
   "metadata": {},
   "outputs": [
    {
     "data": {
      "text/plain": [
       "<472x157 sparse matrix of type '<class 'numpy.int64'>'\n",
       "\twith 3796 stored elements in Compressed Sparse Row format>"
      ]
     },
     "execution_count": 127,
     "metadata": {},
     "output_type": "execute_result"
    }
   ],
   "source": [
    "clf.decision_path()"
   ]
  },
  {
   "cell_type": "markdown",
   "metadata": {},
   "source": [
    "## Model validation"
   ]
  },
  {
   "cell_type": "markdown",
   "metadata": {},
   "source": [
    "### Accuracy"
   ]
  },
  {
   "cell_type": "code",
   "execution_count": 109,
   "metadata": {},
   "outputs": [
    {
     "data": {
      "text/plain": [
       "0.7394366197183099"
      ]
     },
     "execution_count": 109,
     "metadata": {},
     "output_type": "execute_result"
    }
   ],
   "source": [
    "accuracy_score(y_test,y_pred)"
   ]
  },
  {
   "cell_type": "markdown",
   "metadata": {},
   "source": [
    "### Precision "
   ]
  },
  {
   "cell_type": "code",
   "execution_count": 122,
   "metadata": {},
   "outputs": [
    {
     "name": "stdout",
     "output_type": "stream",
     "text": [
      "Success:  0.7934782608695652\n",
      "Failed:  0.64\n"
     ]
    }
   ],
   "source": [
    "print(\"Success: \",precision_score(y_test,y_pred,pos_label=\"Success\"))\n",
    "print(\"Failed: \",precision_score(y_test,y_pred,pos_label=\"Failed\"))"
   ]
  },
  {
   "cell_type": "markdown",
   "metadata": {},
   "source": [
    "### Recall "
   ]
  },
  {
   "cell_type": "code",
   "execution_count": 123,
   "metadata": {},
   "outputs": [
    {
     "name": "stdout",
     "output_type": "stream",
     "text": [
      "Success:  0.8021978021978022\n",
      "Failed:  0.6274509803921569\n"
     ]
    }
   ],
   "source": [
    "print(\"Success: \",recall_score(y_test,y_pred,pos_label=\"Success\"))\n",
    "print(\"Failed: \",recall_score(y_test,y_pred,pos_label=\"Failed\"))"
   ]
  },
  {
   "cell_type": "code",
   "execution_count": null,
   "metadata": {},
   "outputs": [],
   "source": []
  }
 ],
 "metadata": {
  "kernelspec": {
   "display_name": "Python 3",
   "language": "python",
   "name": "python3"
  },
  "language_info": {
   "codemirror_mode": {
    "name": "ipython",
    "version": 3
   },
   "file_extension": ".py",
   "mimetype": "text/x-python",
   "name": "python",
   "nbconvert_exporter": "python",
   "pygments_lexer": "ipython3",
   "version": "3.8.1"
  }
 },
 "nbformat": 4,
 "nbformat_minor": 4
}
