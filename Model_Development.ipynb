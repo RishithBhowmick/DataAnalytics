{
 "cells": [
  {
   "cell_type": "code",
   "execution_count": 2,
   "metadata": {},
   "outputs": [],
   "source": [
    "import pandas as pd\n",
    "import sklearn as sk\n",
    "import numpy as np\n"
   ]
  },
  {
   "cell_type": "code",
   "execution_count": 17,
   "metadata": {},
   "outputs": [],
   "source": [
    "from sklearn import preprocessing\n",
    "from sklearn.preprocessing import LabelEncoder"
   ]
  },
  {
   "cell_type": "code",
   "execution_count": 62,
   "metadata": {},
   "outputs": [],
   "source": [
    "from sklearn.model_selection import train_test_split\n",
    "from sklearn.impute import SimpleImputer\n",
    "from sklearn.tree import DecisionTreeClassifier\n",
    "from sklearn.ensemble import RandomForestClassifier\n"
   ]
  },
  {
   "cell_type": "code",
   "execution_count": 45,
   "metadata": {},
   "outputs": [],
   "source": [
    "from sklearn.metrics import accuracy_score,precision_score,recall_score,roc_auc_score\n",
    "from sklearn.metrics import roc_curve\n",
    "from sklearn.metrics import roc_auc_score"
   ]
  },
  {
   "cell_type": "code",
   "execution_count": 42,
   "metadata": {},
   "outputs": [],
   "source": [
    "from matplotlib import pyplot"
   ]
  },
  {
   "cell_type": "code",
   "execution_count": 5,
   "metadata": {},
   "outputs": [],
   "source": [
    "df = pd.read_csv(\"StartupData.csv\")"
   ]
  },
  {
   "cell_type": "code",
   "execution_count": 4,
   "metadata": {},
   "outputs": [
    {
     "data": {
      "text/html": [
       "<div>\n",
       "<style scoped>\n",
       "    .dataframe tbody tr th:only-of-type {\n",
       "        vertical-align: middle;\n",
       "    }\n",
       "\n",
       "    .dataframe tbody tr th {\n",
       "        vertical-align: top;\n",
       "    }\n",
       "\n",
       "    .dataframe thead th {\n",
       "        text-align: right;\n",
       "    }\n",
       "</style>\n",
       "<table border=\"1\" class=\"dataframe\">\n",
       "  <thead>\n",
       "    <tr style=\"text-align: right;\">\n",
       "      <th></th>\n",
       "      <th>Company_Name</th>\n",
       "      <th>Dependent-Company Status</th>\n",
       "      <th>year of founding</th>\n",
       "      <th>Age of company in years</th>\n",
       "      <th>Internet Activity Score</th>\n",
       "      <th>Short Description of company profile</th>\n",
       "      <th>Industry of company</th>\n",
       "      <th>Focus functions of company</th>\n",
       "      <th>Investors</th>\n",
       "      <th>Employee Count</th>\n",
       "      <th>...</th>\n",
       "      <th>Percent_skill_Data Science</th>\n",
       "      <th>Percent_skill_Business Strategy</th>\n",
       "      <th>Percent_skill_Product Management</th>\n",
       "      <th>Percent_skill_Sales</th>\n",
       "      <th>Percent_skill_Domain</th>\n",
       "      <th>Percent_skill_Law</th>\n",
       "      <th>Percent_skill_Consulting</th>\n",
       "      <th>Percent_skill_Finance</th>\n",
       "      <th>Percent_skill_Investment</th>\n",
       "      <th>Renown score</th>\n",
       "    </tr>\n",
       "  </thead>\n",
       "  <tbody>\n",
       "    <tr>\n",
       "      <th>0</th>\n",
       "      <td>Company1</td>\n",
       "      <td>Success</td>\n",
       "      <td>No Info</td>\n",
       "      <td>No Info</td>\n",
       "      <td>-1.0</td>\n",
       "      <td>Video distribution</td>\n",
       "      <td>NaN</td>\n",
       "      <td>operation</td>\n",
       "      <td>KPCB Holdings|Draper Fisher Jurvetson (DFJ)|Kl...</td>\n",
       "      <td>3.0</td>\n",
       "      <td>...</td>\n",
       "      <td>0</td>\n",
       "      <td>0</td>\n",
       "      <td>0</td>\n",
       "      <td>0</td>\n",
       "      <td>0</td>\n",
       "      <td>0</td>\n",
       "      <td>0</td>\n",
       "      <td>0</td>\n",
       "      <td>0</td>\n",
       "      <td>0</td>\n",
       "    </tr>\n",
       "    <tr>\n",
       "      <th>1</th>\n",
       "      <td>Company2</td>\n",
       "      <td>Success</td>\n",
       "      <td>2011</td>\n",
       "      <td>3</td>\n",
       "      <td>125.0</td>\n",
       "      <td>NaN</td>\n",
       "      <td>Market Research|Marketing|Crowdfunding</td>\n",
       "      <td>Marketing, sales</td>\n",
       "      <td>NaN</td>\n",
       "      <td>NaN</td>\n",
       "      <td>...</td>\n",
       "      <td>8.823529412</td>\n",
       "      <td>21.76470588</td>\n",
       "      <td>10.88235294</td>\n",
       "      <td>2.941176471</td>\n",
       "      <td>0</td>\n",
       "      <td>0</td>\n",
       "      <td>0</td>\n",
       "      <td>0</td>\n",
       "      <td>0</td>\n",
       "      <td>8</td>\n",
       "    </tr>\n",
       "    <tr>\n",
       "      <th>2</th>\n",
       "      <td>Company3</td>\n",
       "      <td>Success</td>\n",
       "      <td>2011</td>\n",
       "      <td>3</td>\n",
       "      <td>455.0</td>\n",
       "      <td>Event Data Analytics API</td>\n",
       "      <td>Analytics|Cloud Computing|Software Development</td>\n",
       "      <td>operations</td>\n",
       "      <td>TechStars|Streamlined Ventures|Amplify Partner...</td>\n",
       "      <td>14.0</td>\n",
       "      <td>...</td>\n",
       "      <td>3.846153846</td>\n",
       "      <td>17.09401709</td>\n",
       "      <td>9.401709402</td>\n",
       "      <td>0</td>\n",
       "      <td>2.777777778</td>\n",
       "      <td>0</td>\n",
       "      <td>0</td>\n",
       "      <td>0</td>\n",
       "      <td>0</td>\n",
       "      <td>9</td>\n",
       "    </tr>\n",
       "    <tr>\n",
       "      <th>3</th>\n",
       "      <td>Company4</td>\n",
       "      <td>Success</td>\n",
       "      <td>2009</td>\n",
       "      <td>5</td>\n",
       "      <td>-99.0</td>\n",
       "      <td>The most advanced analytics for mobile</td>\n",
       "      <td>Mobile|Analytics</td>\n",
       "      <td>Marketing &amp; Sales</td>\n",
       "      <td>Michael Birch|Max Levchin|Sequoia Capital|Keit...</td>\n",
       "      <td>45.0</td>\n",
       "      <td>...</td>\n",
       "      <td>0</td>\n",
       "      <td>0</td>\n",
       "      <td>0</td>\n",
       "      <td>0</td>\n",
       "      <td>0</td>\n",
       "      <td>0</td>\n",
       "      <td>0</td>\n",
       "      <td>0</td>\n",
       "      <td>0</td>\n",
       "      <td>5</td>\n",
       "    </tr>\n",
       "    <tr>\n",
       "      <th>4</th>\n",
       "      <td>Company5</td>\n",
       "      <td>Success</td>\n",
       "      <td>2010</td>\n",
       "      <td>4</td>\n",
       "      <td>496.0</td>\n",
       "      <td>The Location-Based Marketing Platform</td>\n",
       "      <td>Analytics|Marketing|Enterprise Software</td>\n",
       "      <td>Marketing &amp; Sales</td>\n",
       "      <td>DFJ Frontier|Draper Nexus Ventures|Gil Elbaz|A...</td>\n",
       "      <td>39.0</td>\n",
       "      <td>...</td>\n",
       "      <td>0</td>\n",
       "      <td>0</td>\n",
       "      <td>0</td>\n",
       "      <td>0</td>\n",
       "      <td>0</td>\n",
       "      <td>0</td>\n",
       "      <td>0</td>\n",
       "      <td>0</td>\n",
       "      <td>0</td>\n",
       "      <td>6</td>\n",
       "    </tr>\n",
       "  </tbody>\n",
       "</table>\n",
       "<p>5 rows × 116 columns</p>\n",
       "</div>"
      ],
      "text/plain": [
       "  Company_Name Dependent-Company Status year of founding  \\\n",
       "0     Company1                  Success          No Info   \n",
       "1     Company2                  Success             2011   \n",
       "2     Company3                  Success             2011   \n",
       "3     Company4                  Success             2009   \n",
       "4     Company5                  Success             2010   \n",
       "\n",
       "  Age of company in years  Internet Activity Score  \\\n",
       "0                 No Info                     -1.0   \n",
       "1                       3                    125.0   \n",
       "2                       3                    455.0   \n",
       "3                       5                    -99.0   \n",
       "4                       4                    496.0   \n",
       "\n",
       "     Short Description of company profile  \\\n",
       "0                      Video distribution   \n",
       "1                                     NaN   \n",
       "2                Event Data Analytics API   \n",
       "3  The most advanced analytics for mobile   \n",
       "4   The Location-Based Marketing Platform   \n",
       "\n",
       "                              Industry of company Focus functions of company  \\\n",
       "0                                             NaN                  operation   \n",
       "1          Market Research|Marketing|Crowdfunding           Marketing, sales   \n",
       "2  Analytics|Cloud Computing|Software Development                 operations   \n",
       "3                                Mobile|Analytics          Marketing & Sales   \n",
       "4         Analytics|Marketing|Enterprise Software          Marketing & Sales   \n",
       "\n",
       "                                           Investors  Employee Count  ...  \\\n",
       "0  KPCB Holdings|Draper Fisher Jurvetson (DFJ)|Kl...             3.0  ...   \n",
       "1                                                NaN             NaN  ...   \n",
       "2  TechStars|Streamlined Ventures|Amplify Partner...            14.0  ...   \n",
       "3  Michael Birch|Max Levchin|Sequoia Capital|Keit...            45.0  ...   \n",
       "4  DFJ Frontier|Draper Nexus Ventures|Gil Elbaz|A...            39.0  ...   \n",
       "\n",
       "   Percent_skill_Data Science Percent_skill_Business Strategy  \\\n",
       "0                           0                               0   \n",
       "1                 8.823529412                     21.76470588   \n",
       "2                 3.846153846                     17.09401709   \n",
       "3                           0                               0   \n",
       "4                           0                               0   \n",
       "\n",
       "  Percent_skill_Product Management Percent_skill_Sales  Percent_skill_Domain  \\\n",
       "0                                0                   0                     0   \n",
       "1                      10.88235294         2.941176471                     0   \n",
       "2                      9.401709402                   0           2.777777778   \n",
       "3                                0                   0                     0   \n",
       "4                                0                   0                     0   \n",
       "\n",
       "  Percent_skill_Law Percent_skill_Consulting Percent_skill_Finance  \\\n",
       "0                 0                        0                     0   \n",
       "1                 0                        0                     0   \n",
       "2                 0                        0                     0   \n",
       "3                 0                        0                     0   \n",
       "4                 0                        0                     0   \n",
       "\n",
       "  Percent_skill_Investment  Renown score  \n",
       "0                        0             0  \n",
       "1                        0             8  \n",
       "2                        0             9  \n",
       "3                        0             5  \n",
       "4                        0             6  \n",
       "\n",
       "[5 rows x 116 columns]"
      ]
     },
     "execution_count": 4,
     "metadata": {},
     "output_type": "execute_result"
    }
   ],
   "source": [
    "df.head()"
   ]
  },
  {
   "cell_type": "code",
   "execution_count": 6,
   "metadata": {},
   "outputs": [],
   "source": [
    "# print([i for i in df.columns],sep=\"\\n\",end=\"\\n\")"
   ]
  },
  {
   "cell_type": "code",
   "execution_count": 8,
   "metadata": {},
   "outputs": [],
   "source": [
    "X ,y = df[[\"Employee Count\",\"Internet Activity Score\",\"Team size Senior leadership\"]],df[\"Dependent-Company Status\"]"
   ]
  },
  {
   "cell_type": "code",
   "execution_count": 9,
   "metadata": {},
   "outputs": [],
   "source": [
    "# def clean_column(dataframe,column_name):\n",
    "    \n",
    "#     \"\"\"\n",
    "#     Filling the empty values with median or mode if it is a number or an object(string)\n",
    "#     \"\"\"\n",
    "        \n",
    "#     if type(dataframe[column_name])== int or type(dataframe[column_name])==float:\n",
    "#         imp = SimpleImputer(missing_values=0, strategy='median')\n",
    "#         return imp.fit_transform(dataframe.loc[:,column_name])\n",
    "        \n",
    "        "
   ]
  },
  {
   "cell_type": "code",
   "execution_count": 10,
   "metadata": {},
   "outputs": [
    {
     "data": {
      "text/html": [
       "<div>\n",
       "<style scoped>\n",
       "    .dataframe tbody tr th:only-of-type {\n",
       "        vertical-align: middle;\n",
       "    }\n",
       "\n",
       "    .dataframe tbody tr th {\n",
       "        vertical-align: top;\n",
       "    }\n",
       "\n",
       "    .dataframe thead th {\n",
       "        text-align: right;\n",
       "    }\n",
       "</style>\n",
       "<table border=\"1\" class=\"dataframe\">\n",
       "  <thead>\n",
       "    <tr style=\"text-align: right;\">\n",
       "      <th></th>\n",
       "      <th>Employee Count</th>\n",
       "      <th>Internet Activity Score</th>\n",
       "      <th>Team size Senior leadership</th>\n",
       "    </tr>\n",
       "  </thead>\n",
       "  <tbody>\n",
       "    <tr>\n",
       "      <th>0</th>\n",
       "      <td>3.0</td>\n",
       "      <td>-1.0</td>\n",
       "      <td>2</td>\n",
       "    </tr>\n",
       "    <tr>\n",
       "      <th>1</th>\n",
       "      <td>NaN</td>\n",
       "      <td>125.0</td>\n",
       "      <td>4</td>\n",
       "    </tr>\n",
       "    <tr>\n",
       "      <th>2</th>\n",
       "      <td>14.0</td>\n",
       "      <td>455.0</td>\n",
       "      <td>7</td>\n",
       "    </tr>\n",
       "    <tr>\n",
       "      <th>3</th>\n",
       "      <td>45.0</td>\n",
       "      <td>-99.0</td>\n",
       "      <td>4</td>\n",
       "    </tr>\n",
       "    <tr>\n",
       "      <th>4</th>\n",
       "      <td>39.0</td>\n",
       "      <td>496.0</td>\n",
       "      <td>8</td>\n",
       "    </tr>\n",
       "  </tbody>\n",
       "</table>\n",
       "</div>"
      ],
      "text/plain": [
       "   Employee Count  Internet Activity Score  Team size Senior leadership\n",
       "0             3.0                     -1.0                            2\n",
       "1             NaN                    125.0                            4\n",
       "2            14.0                    455.0                            7\n",
       "3            45.0                    -99.0                            4\n",
       "4            39.0                    496.0                            8"
      ]
     },
     "execution_count": 10,
     "metadata": {},
     "output_type": "execute_result"
    }
   ],
   "source": [
    "X.head()"
   ]
  },
  {
   "cell_type": "code",
   "execution_count": 11,
   "metadata": {},
   "outputs": [
    {
     "data": {
      "text/plain": [
       "Employee Count                 13.0\n",
       "Internet Activity Score        60.0\n",
       "Team size Senior leadership     3.0\n",
       "dtype: float64"
      ]
     },
     "execution_count": 11,
     "metadata": {},
     "output_type": "execute_result"
    }
   ],
   "source": [
    "X.median()"
   ]
  },
  {
   "cell_type": "markdown",
   "metadata": {},
   "source": [
    "## Preprocessing "
   ]
  },
  {
   "cell_type": "code",
   "execution_count": 12,
   "metadata": {},
   "outputs": [],
   "source": [
    "X = X.fillna(X.median())"
   ]
  },
  {
   "cell_type": "code",
   "execution_count": 19,
   "metadata": {},
   "outputs": [
    {
     "data": {
      "text/plain": [
       "Employee Count                 0\n",
       "Internet Activity Score        0\n",
       "Team size Senior leadership    0\n",
       "dtype: int64"
      ]
     },
     "execution_count": 19,
     "metadata": {},
     "output_type": "execute_result"
    }
   ],
   "source": [
    "X.isnull().sum()"
   ]
  },
  {
   "cell_type": "code",
   "execution_count": 30,
   "metadata": {},
   "outputs": [],
   "source": [
    "le = LabelEncoder()\n",
    "y = le.fit_transform(y)"
   ]
  },
  {
   "cell_type": "markdown",
   "metadata": {},
   "source": [
    "## Model Building"
   ]
  },
  {
   "cell_type": "markdown",
   "metadata": {},
   "source": [
    "### Decision Tree"
   ]
  },
  {
   "cell_type": "code",
   "execution_count": 31,
   "metadata": {},
   "outputs": [],
   "source": [
    "X_train, X_test, y_train, y_test = train_test_split(X,y,test_size=0.3,random_state=0)\n",
    "clf = DecisionTreeClassifier(criterion=\"entropy\")\n",
    "clf.fit(X_train,y_train)\n",
    "y_pred = clf.predict(X_test)"
   ]
  },
  {
   "cell_type": "markdown",
   "metadata": {},
   "source": [
    "\n",
    "### Random Forest"
   ]
  },
  {
   "cell_type": "code",
   "execution_count": 63,
   "metadata": {},
   "outputs": [],
   "source": [
    "X_train, X_test, y_train, y_test = train_test_split(X,y,test_size=0.3,random_state=0)\n",
    "random_forest_clf = RandomForestClassifier(criterion=\"entropy\")\n",
    "random_forest_clf.fit(X_train,y_train)\n",
    "y_pred = random_forest_clf.predict(X_test)"
   ]
  },
  {
   "cell_type": "markdown",
   "metadata": {},
   "source": [
    "## Model validation"
   ]
  },
  {
   "cell_type": "markdown",
   "metadata": {},
   "source": [
    "### Model Metrics(Accuracy, Precision and Recall)"
   ]
  },
  {
   "cell_type": "code",
   "execution_count": 58,
   "metadata": {},
   "outputs": [],
   "source": [
    "def get_metrics(y_test,y_pred):\n",
    "    print(\"Accuracy\",accuracy_score(y_test,y_pred))\n",
    "    print(\"Success Precision: \",precision_score(y_test,y_pred,pos_label=1))\n",
    "    print(\"Failed Precision: \",precision_score(y_test,y_pred,pos_label=0))\n",
    "    print(\"Success Recall: \",recall_score(y_test,y_pred))\n",
    "    print(\"Failed Recall: \",recall_score(y_test,y_pred,pos_label=0))\n",
    "    print(\"Confusion Matrix: \\n\",sk.metrics.confusion_matrix(y_test,y_pred))"
   ]
  },
  {
   "cell_type": "markdown",
   "metadata": {},
   "source": [
    "### Decision Tree Metrics"
   ]
  },
  {
   "cell_type": "code",
   "execution_count": 59,
   "metadata": {},
   "outputs": [
    {
     "name": "stdout",
     "output_type": "stream",
     "text": [
      "Accuracy 0.7253521126760564\n",
      "Success Precision:  0.7888888888888889\n",
      "Failed Precision:  0.6153846153846154\n",
      "Success Recall:  0.7802197802197802\n",
      "Failed Recall:  0.6274509803921569\n",
      "Confusion Matrix: \n",
      " [[32 19]\n",
      " [20 71]]\n"
     ]
    }
   ],
   "source": [
    "get_metrics(y_test,y_pred)"
   ]
  },
  {
   "cell_type": "markdown",
   "metadata": {},
   "source": [
    "### AUC ROC Curve"
   ]
  },
  {
   "cell_type": "code",
   "execution_count": 67,
   "metadata": {},
   "outputs": [],
   "source": [
    "def AUC_ROC_Curve(clf,X_test,y_test,clf_name):\n",
    "    lr_probs = clf.predict_proba(X_test)\n",
    "    # keep probabilities for the positive outcome only\n",
    "    lr_probs = lr_probs[:, 1]\n",
    "    ns_probs = [0 for _ in range(len(y_test))]\n",
    "    ns_auc = roc_auc_score(y_test, ns_probs)\n",
    "    lr_auc = roc_auc_score(y_test, lr_probs)\n",
    "    # summarize scores\n",
    "    print('No Skill: ROC AUC=%.3f' % (ns_auc))\n",
    "    print('Decision Tree: ROC AUC=%.3f' % (lr_auc))\n",
    "    # calculate roc curves\n",
    "    ns_fpr, ns_tpr, _ = roc_curve(y_test, ns_probs)\n",
    "    lr_fpr, lr_tpr, _ = roc_curve(y_test, lr_probs)\n",
    "    # plot the roc curve for the model\n",
    "    pyplot.plot(ns_fpr, ns_tpr, linestyle='--', label='No Skill')\n",
    "    pyplot.plot(lr_fpr, lr_tpr, marker='.', label=clf_name)\n",
    "    # axis labels\n",
    "    pyplot.xlabel('False Positive Rate')\n",
    "    pyplot.ylabel('True Positive Rate')\n",
    "    # show the legend\n",
    "    pyplot.legend()\n",
    "    # show the plot\n",
    "    pyplot.title(f\"{clf_name} with 3 features\")\n",
    "    pyplot.show()\n"
   ]
  },
  {
   "cell_type": "code",
   "execution_count": 61,
   "metadata": {},
   "outputs": [
    {
     "name": "stdout",
     "output_type": "stream",
     "text": [
      "No Skill: ROC AUC=0.500\n",
      "Decision Tree: ROC AUC=0.717\n"
     ]
    },
    {
     "data": {
      "image/png": "[encoded data removed]",
      "text/plain": [
       "<Figure size 432x288 with 1 Axes>"
      ]
     },
     "metadata": {
      "needs_background": "light"
     },
     "output_type": "display_data"
    }
   ],
   "source": [
    "AUC_ROC_Curve(clf,X_test,y_test,\"Decision Tree Classifier\")"
   ]
  },
  {
   "cell_type": "markdown",
   "metadata": {},
   "source": [
    "### Random Forest Metrics"
   ]
  },
  {
   "cell_type": "code",
   "execution_count": 64,
   "metadata": {},
   "outputs": [
    {
     "name": "stdout",
     "output_type": "stream",
     "text": [
      "Accuracy 0.7676056338028169\n",
      "Success Precision:  0.79\n",
      "Failed Precision:  0.7142857142857143\n",
      "Success Recall:  0.8681318681318682\n",
      "Failed Recall:  0.5882352941176471\n",
      "Confusion Matrix: \n",
      " [[30 21]\n",
      " [12 79]]\n"
     ]
    }
   ],
   "source": [
    "get_metrics(y_test,y_pred)"
   ]
  },
  {
   "cell_type": "code",
   "execution_count": 68,
   "metadata": {},
   "outputs": [
    {
     "name": "stdout",
     "output_type": "stream",
     "text": [
      "No Skill: ROC AUC=0.500\n",
      "Decision Tree: ROC AUC=0.806\n"
     ]
    },
    {
     "data": {
      "image/png": "[encoded data removed]",
      "text/plain": [
       "<Figure size 432x288 with 1 Axes>"
      ]
     },
     "metadata": {
      "needs_background": "light"
     },
     "output_type": "display_data"
    }
   ],
   "source": [
    "AUC_ROC_Curve(random_forest_clf,X_test,y_test,\"Random Forest Classifier\")"
   ]
  },
  {
   "cell_type": "code",
   "execution_count": null,
   "metadata": {},
   "outputs": [],
   "source": []
  }
 ],
 "metadata": {
  "kernelspec": {
   "display_name": "Python 3",
   "language": "python",
   "name": "python3"
  },
  "language_info": {
   "codemirror_mode": {
    "name": "ipython",
    "version": 3
   },
   "file_extension": ".py",
   "mimetype": "text/x-python",
   "name": "python",
   "nbconvert_exporter": "python",
   "pygments_lexer": "ipython3",
   "version": "3.8.1"
  }
 },
 "nbformat": 4,
 "nbformat_minor": 4
}
